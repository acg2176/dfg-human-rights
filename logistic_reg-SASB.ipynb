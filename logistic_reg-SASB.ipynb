{
 "cells": [
  {
   "cell_type": "markdown",
   "metadata": {},
   "source": [
    "This notebook contains several classification approaches to classify 10-K excerpts. The dataset is provided by SASB. 5 text preprocessing methods were used:\n",
    "- CountVectorizer\n",
    "- TF-IDF Vectorizer\n",
    "- TF-IDF Vectorizer with bigrams\n",
    "- Word Embeddings (pre-trained using proxy statements)\n",
    "- Word Embeddings (pre-trained using 10-K's) These were downloaded from: https://github.com/ssehrawat/10K-word-embeddings\n",
    "\n",
    "Logistic Regression is the supervised learning algorithm used in thie notebook. The objective is to maximize the recall of the classifier. This was done through thresholding.\n",
    "\n",
    "```tqdm``` is used to observe the progress bar when a cell is running."
   ]
  },
  {
   "cell_type": "code",
   "execution_count": 2,
   "metadata": {},
   "outputs": [],
   "source": [
    "from tqdm import tqdm\n",
    "tqdm.pandas()"
   ]
  },
  {
   "cell_type": "markdown",
   "metadata": {},
   "source": [
    "Import necessary libraries."
   ]
  },
  {
   "cell_type": "code",
   "execution_count": 3,
   "metadata": {},
   "outputs": [],
   "source": [
    "import pandas as pd\n",
    "import numpy as np\n",
    "import matplotlib.pyplot as plt\n",
    "%matplotlib inline\n",
    "import os\n",
    "\n",
    "#NLP Text Preprocessing\n",
    "import nltk\n",
    "import string\n",
    "import re\n",
    "from sklearn.feature_extraction.text import CountVectorizer, TfidfVectorizer\n",
    "from sklearn.preprocessing import normalize\n",
    "from nltk import word_tokenize\n",
    "from nltk.corpus import stopwords\n",
    "from nltk.stem.porter import PorterStemmer\n",
    "\n",
    "#Logistic Regression\n",
    "from sklearn.model_selection import train_test_split, cross_val_score\n",
    "from sklearn.linear_model import LogisticRegression\n",
    "from sklearn.model_selection import GridSearchCV\n",
    "from sklearn.metrics import confusion_matrix, classification_report, precision_recall_curve, auc, average_precision_score"
   ]
  },
  {
   "cell_type": "markdown",
   "metadata": {},
   "source": [
    "The DataFrame is loaded and assigned the variable ```json```."
   ]
  },
  {
   "cell_type": "code",
   "execution_count": 4,
   "metadata": {},
   "outputs": [
    {
     "data": {
      "text/html": [
       "<div>\n",
       "<style scoped>\n",
       "    .dataframe tbody tr th:only-of-type {\n",
       "        vertical-align: middle;\n",
       "    }\n",
       "\n",
       "    .dataframe tbody tr th {\n",
       "        vertical-align: top;\n",
       "    }\n",
       "\n",
       "    .dataframe thead th {\n",
       "        text-align: right;\n",
       "    }\n",
       "</style>\n",
       "<table border=\"1\" class=\"dataframe\">\n",
       "  <thead>\n",
       "    <tr style=\"text-align: right;\">\n",
       "      <th></th>\n",
       "      <th>excerpt_id</th>\n",
       "      <th>excerpt</th>\n",
       "      <th>company_ticker</th>\n",
       "      <th>disclosure_topic_id</th>\n",
       "      <th>industry_id</th>\n",
       "      <th>source_document</th>\n",
       "      <th>relevance_assessment</th>\n",
       "      <th>quality_assessment</th>\n",
       "    </tr>\n",
       "  </thead>\n",
       "  <tbody>\n",
       "    <tr>\n",
       "      <th>0</th>\n",
       "      <td>2017-AAL-TR-AL-310a-147641</td>\n",
       "      <td>Reclassifications out of AOCI for the years en...</td>\n",
       "      <td>AAL</td>\n",
       "      <td>TR-AL-310a</td>\n",
       "      <td>TR-AL</td>\n",
       "      <td></td>\n",
       "      <td>No Disclosure</td>\n",
       "      <td>No Disclosure</td>\n",
       "    </tr>\n",
       "    <tr>\n",
       "      <th>1</th>\n",
       "      <td>2017-AAL-TR-AL-310a-147711</td>\n",
       "      <td>Earnings per share:\\nShares used for computati...</td>\n",
       "      <td>AAL</td>\n",
       "      <td>TR-AL-310a</td>\n",
       "      <td>TR-AL</td>\n",
       "      <td></td>\n",
       "      <td>No Disclosure</td>\n",
       "      <td>No Disclosure</td>\n",
       "    </tr>\n",
       "    <tr>\n",
       "      <th>2</th>\n",
       "      <td>2017-AAL-TR-AL-310a-148045</td>\n",
       "      <td>Reclassifications out of AOCI for the years en...</td>\n",
       "      <td>AAL</td>\n",
       "      <td>TR-AL-310a</td>\n",
       "      <td>TR-AL</td>\n",
       "      <td></td>\n",
       "      <td>No Disclosure</td>\n",
       "      <td>No Disclosure</td>\n",
       "    </tr>\n",
       "    <tr>\n",
       "      <th>3</th>\n",
       "      <td>2017-AAL-TR-AL-310a-2483765</td>\n",
       "      <td>Approximate number of active full-time equival...</td>\n",
       "      <td>AAL</td>\n",
       "      <td>TR-AL-310a</td>\n",
       "      <td>TR-AL</td>\n",
       "      <td></td>\n",
       "      <td>No Disclosure</td>\n",
       "      <td>No Disclosure</td>\n",
       "    </tr>\n",
       "    <tr>\n",
       "      <th>4</th>\n",
       "      <td>2017-AAL-TR-AL-310a-2484043</td>\n",
       "      <td>Employee bonus expense included costs related ...</td>\n",
       "      <td>AAL</td>\n",
       "      <td>TR-AL-310a</td>\n",
       "      <td>TR-AL</td>\n",
       "      <td></td>\n",
       "      <td>No Disclosure</td>\n",
       "      <td>No Disclosure</td>\n",
       "    </tr>\n",
       "    <tr>\n",
       "      <th>...</th>\n",
       "      <td>...</td>\n",
       "      <td>...</td>\n",
       "      <td>...</td>\n",
       "      <td>...</td>\n",
       "      <td>...</td>\n",
       "      <td>...</td>\n",
       "      <td>...</td>\n",
       "      <td>...</td>\n",
       "    </tr>\n",
       "    <tr>\n",
       "      <th>20621</th>\n",
       "      <td>SD_2017_M_PCG_IF-EU-320a</td>\n",
       "      <td>Order Instituting an Investigation into the Ut...</td>\n",
       "      <td>PCG</td>\n",
       "      <td>IF-EU-320a</td>\n",
       "      <td>IF-EU</td>\n",
       "      <td>None</td>\n",
       "      <td>Relevant</td>\n",
       "      <td>Company Tailored Narrative</td>\n",
       "    </tr>\n",
       "    <tr>\n",
       "      <th>20622</th>\n",
       "      <td>SD_2017_M_SEAS_SV-LF-320a</td>\n",
       "      <td>\\n\\nFeaturing animals at our theme parks invol...</td>\n",
       "      <td>SEAS</td>\n",
       "      <td>SV-LF-320a</td>\n",
       "      <td>SV-LF</td>\n",
       "      <td>None</td>\n",
       "      <td>Relevant</td>\n",
       "      <td>Metrics</td>\n",
       "    </tr>\n",
       "    <tr>\n",
       "      <th>20623</th>\n",
       "      <td>SD_2017_M_STO_EM-EP-320a</td>\n",
       "      <td>2.12 SAFETY, SECURITY AND SUSTAINABILITY\\n\\nSa...</td>\n",
       "      <td>STO</td>\n",
       "      <td>EM-EP-320a</td>\n",
       "      <td>EM-EP</td>\n",
       "      <td>None</td>\n",
       "      <td>Relevant</td>\n",
       "      <td>Metrics</td>\n",
       "    </tr>\n",
       "    <tr>\n",
       "      <th>20624</th>\n",
       "      <td>SD_2017_M_WMT_CG-MR-330a</td>\n",
       "      <td>We are subject to certain legal proceedings th...</td>\n",
       "      <td>WMT</td>\n",
       "      <td>CG-MR-330a</td>\n",
       "      <td>CG-MR</td>\n",
       "      <td>None</td>\n",
       "      <td>Relevant</td>\n",
       "      <td>Company Tailored Narrative</td>\n",
       "    </tr>\n",
       "    <tr>\n",
       "      <th>20625</th>\n",
       "      <td>SD_2017_M_WPPGY_SV-AD-330a</td>\n",
       "      <td>Sustainability\\n\\n...People\\n\\n- We invested £...</td>\n",
       "      <td>WPPGY</td>\n",
       "      <td>SV-AD-330a</td>\n",
       "      <td>SV-AD</td>\n",
       "      <td>None</td>\n",
       "      <td>Relevant</td>\n",
       "      <td>Metrics</td>\n",
       "    </tr>\n",
       "  </tbody>\n",
       "</table>\n",
       "<p>20626 rows × 8 columns</p>\n",
       "</div>"
      ],
      "text/plain": [
       "                        excerpt_id  \\\n",
       "0       2017-AAL-TR-AL-310a-147641   \n",
       "1       2017-AAL-TR-AL-310a-147711   \n",
       "2       2017-AAL-TR-AL-310a-148045   \n",
       "3      2017-AAL-TR-AL-310a-2483765   \n",
       "4      2017-AAL-TR-AL-310a-2484043   \n",
       "...                            ...   \n",
       "20621     SD_2017_M_PCG_IF-EU-320a   \n",
       "20622    SD_2017_M_SEAS_SV-LF-320a   \n",
       "20623     SD_2017_M_STO_EM-EP-320a   \n",
       "20624     SD_2017_M_WMT_CG-MR-330a   \n",
       "20625   SD_2017_M_WPPGY_SV-AD-330a   \n",
       "\n",
       "                                                 excerpt company_ticker  \\\n",
       "0      Reclassifications out of AOCI for the years en...            AAL   \n",
       "1      Earnings per share:\\nShares used for computati...            AAL   \n",
       "2      Reclassifications out of AOCI for the years en...            AAL   \n",
       "3      Approximate number of active full-time equival...            AAL   \n",
       "4      Employee bonus expense included costs related ...            AAL   \n",
       "...                                                  ...            ...   \n",
       "20621  Order Instituting an Investigation into the Ut...            PCG   \n",
       "20622  \\n\\nFeaturing animals at our theme parks invol...           SEAS   \n",
       "20623  2.12 SAFETY, SECURITY AND SUSTAINABILITY\\n\\nSa...            STO   \n",
       "20624  We are subject to certain legal proceedings th...            WMT   \n",
       "20625  Sustainability\\n\\n...People\\n\\n- We invested £...          WPPGY   \n",
       "\n",
       "      disclosure_topic_id industry_id source_document relevance_assessment  \\\n",
       "0              TR-AL-310a       TR-AL                        No Disclosure   \n",
       "1              TR-AL-310a       TR-AL                        No Disclosure   \n",
       "2              TR-AL-310a       TR-AL                        No Disclosure   \n",
       "3              TR-AL-310a       TR-AL                        No Disclosure   \n",
       "4              TR-AL-310a       TR-AL                        No Disclosure   \n",
       "...                   ...         ...             ...                  ...   \n",
       "20621          IF-EU-320a       IF-EU            None             Relevant   \n",
       "20622          SV-LF-320a       SV-LF            None             Relevant   \n",
       "20623          EM-EP-320a       EM-EP            None             Relevant   \n",
       "20624          CG-MR-330a       CG-MR            None             Relevant   \n",
       "20625          SV-AD-330a       SV-AD            None             Relevant   \n",
       "\n",
       "               quality_assessment  \n",
       "0                   No Disclosure  \n",
       "1                   No Disclosure  \n",
       "2                   No Disclosure  \n",
       "3                   No Disclosure  \n",
       "4                   No Disclosure  \n",
       "...                           ...  \n",
       "20621  Company Tailored Narrative  \n",
       "20622                     Metrics  \n",
       "20623                     Metrics  \n",
       "20624  Company Tailored Narrative  \n",
       "20625                     Metrics  \n",
       "\n",
       "[20626 rows x 8 columns]"
      ]
     },
     "execution_count": 4,
     "metadata": {},
     "output_type": "execute_result"
    }
   ],
   "source": [
    "json = pd.read_json(\"di_hc_rel_train.json\")\n",
    "json"
   ]
  },
  {
   "cell_type": "markdown",
   "metadata": {},
   "source": [
    "This cell shows how many excerpts are labeled 'Relevant' and 'No Disclosure'."
   ]
  },
  {
   "cell_type": "code",
   "execution_count": 5,
   "metadata": {},
   "outputs": [
    {
     "data": {
      "text/plain": [
       "No Disclosure    11463\n",
       "Relevant          9163\n",
       "Name: relevance_assessment, dtype: int64"
      ]
     },
     "execution_count": 5,
     "metadata": {},
     "output_type": "execute_result"
    }
   ],
   "source": [
    "json['relevance_assessment'].value_counts()"
   ]
  },
  {
   "cell_type": "markdown",
   "metadata": {},
   "source": [
    "The dataframe  ```disclosure_topic.csv``` is loaded."
   ]
  },
  {
   "cell_type": "code",
   "execution_count": 6,
   "metadata": {},
   "outputs": [
    {
     "data": {
      "text/html": [
       "<div>\n",
       "<style scoped>\n",
       "    .dataframe tbody tr th:only-of-type {\n",
       "        vertical-align: middle;\n",
       "    }\n",
       "\n",
       "    .dataframe tbody tr th {\n",
       "        vertical-align: top;\n",
       "    }\n",
       "\n",
       "    .dataframe thead th {\n",
       "        text-align: right;\n",
       "    }\n",
       "</style>\n",
       "<table border=\"1\" class=\"dataframe\">\n",
       "  <thead>\n",
       "    <tr style=\"text-align: right;\">\n",
       "      <th></th>\n",
       "      <th>disclosure_topic_id</th>\n",
       "      <th>disclosure_topic_name</th>\n",
       "      <th>industry_id</th>\n",
       "      <th>sustainability_dimension</th>\n",
       "    </tr>\n",
       "  </thead>\n",
       "  <tbody>\n",
       "    <tr>\n",
       "      <th>0</th>\n",
       "      <td>CG-AA-250a</td>\n",
       "      <td>Management of Chemicals in Products</td>\n",
       "      <td>CG-AA</td>\n",
       "      <td>NaN</td>\n",
       "    </tr>\n",
       "    <tr>\n",
       "      <th>1</th>\n",
       "      <td>CG-AA-430a</td>\n",
       "      <td>Environmental Impacts in the Supply Chain</td>\n",
       "      <td>CG-AA</td>\n",
       "      <td>NaN</td>\n",
       "    </tr>\n",
       "    <tr>\n",
       "      <th>2</th>\n",
       "      <td>CG-AA-430b</td>\n",
       "      <td>Labor Conditions in the Supply Chain</td>\n",
       "      <td>CG-AA</td>\n",
       "      <td>NaN</td>\n",
       "    </tr>\n",
       "    <tr>\n",
       "      <th>3</th>\n",
       "      <td>CG-AA-440a</td>\n",
       "      <td>Raw Materials Sourcing</td>\n",
       "      <td>CG-AA</td>\n",
       "      <td>NaN</td>\n",
       "    </tr>\n",
       "    <tr>\n",
       "      <th>4</th>\n",
       "      <td>CG-AM-250a</td>\n",
       "      <td>Product Safety</td>\n",
       "      <td>CG-AM</td>\n",
       "      <td>NaN</td>\n",
       "    </tr>\n",
       "  </tbody>\n",
       "</table>\n",
       "</div>"
      ],
      "text/plain": [
       "  disclosure_topic_id                      disclosure_topic_name industry_id  \\\n",
       "0          CG-AA-250a        Management of Chemicals in Products       CG-AA   \n",
       "1          CG-AA-430a  Environmental Impacts in the Supply Chain       CG-AA   \n",
       "2          CG-AA-430b       Labor Conditions in the Supply Chain       CG-AA   \n",
       "3          CG-AA-440a                     Raw Materials Sourcing       CG-AA   \n",
       "4          CG-AM-250a                             Product Safety       CG-AM   \n",
       "\n",
       "   sustainability_dimension  \n",
       "0                       NaN  \n",
       "1                       NaN  \n",
       "2                       NaN  \n",
       "3                       NaN  \n",
       "4                       NaN  "
      ]
     },
     "execution_count": 6,
     "metadata": {},
     "output_type": "execute_result"
    }
   ],
   "source": [
    "# Import csv lookup\n",
    "toplabel = pd.read_csv(\"disclosure_topic.csv\")\n",
    "toplabel.columns = map(str.lower, toplabel.columns)\n",
    "toplabel.head()"
   ]
  },
  {
   "cell_type": "markdown",
   "metadata": {},
   "source": [
    "Subset the dataframe to show only those rows that are related to labor."
   ]
  },
  {
   "cell_type": "code",
   "execution_count": 7,
   "metadata": {},
   "outputs": [
    {
     "data": {
      "text/html": [
       "<div>\n",
       "<style scoped>\n",
       "    .dataframe tbody tr th:only-of-type {\n",
       "        vertical-align: middle;\n",
       "    }\n",
       "\n",
       "    .dataframe tbody tr th {\n",
       "        vertical-align: top;\n",
       "    }\n",
       "\n",
       "    .dataframe thead th {\n",
       "        text-align: right;\n",
       "    }\n",
       "</style>\n",
       "<table border=\"1\" class=\"dataframe\">\n",
       "  <thead>\n",
       "    <tr style=\"text-align: right;\">\n",
       "      <th></th>\n",
       "      <th>disclosure_topic_id</th>\n",
       "      <th>disclosure_topic_name</th>\n",
       "      <th>industry_id</th>\n",
       "      <th>sustainability_dimension</th>\n",
       "    </tr>\n",
       "  </thead>\n",
       "  <tbody>\n",
       "    <tr>\n",
       "      <th>2</th>\n",
       "      <td>CG-AA-430b</td>\n",
       "      <td>Labor Conditions in the Supply Chain</td>\n",
       "      <td>CG-AA</td>\n",
       "      <td>NaN</td>\n",
       "    </tr>\n",
       "    <tr>\n",
       "      <th>21</th>\n",
       "      <td>CG-MR-310a</td>\n",
       "      <td>Labor Practices</td>\n",
       "      <td>CG-MR</td>\n",
       "      <td>NaN</td>\n",
       "    </tr>\n",
       "    <tr>\n",
       "      <th>25</th>\n",
       "      <td>CG-TS-430a</td>\n",
       "      <td>Labor Conditions in the Supply Chain</td>\n",
       "      <td>CG-TS</td>\n",
       "      <td>NaN</td>\n",
       "    </tr>\n",
       "    <tr>\n",
       "      <th>41</th>\n",
       "      <td>EM-CO-310a</td>\n",
       "      <td>Labor Relations</td>\n",
       "      <td>EM-CO</td>\n",
       "      <td>NaN</td>\n",
       "    </tr>\n",
       "    <tr>\n",
       "      <th>75</th>\n",
       "      <td>EM-MM-310a</td>\n",
       "      <td>Labor Relations</td>\n",
       "      <td>EM-MM</td>\n",
       "      <td>NaN</td>\n",
       "    </tr>\n",
       "    <tr>\n",
       "      <th>117</th>\n",
       "      <td>FB-FR-310a</td>\n",
       "      <td>Labor Practices</td>\n",
       "      <td>FB-FR</td>\n",
       "      <td>NaN</td>\n",
       "    </tr>\n",
       "    <tr>\n",
       "      <th>150</th>\n",
       "      <td>FB-RN-310a</td>\n",
       "      <td>Labor Practices</td>\n",
       "      <td>FB-RN</td>\n",
       "      <td>NaN</td>\n",
       "    </tr>\n",
       "    <tr>\n",
       "      <th>258</th>\n",
       "      <td>IF-WM-310a</td>\n",
       "      <td>Labor Practices</td>\n",
       "      <td>IF-WM</td>\n",
       "      <td>NaN</td>\n",
       "    </tr>\n",
       "    <tr>\n",
       "      <th>350</th>\n",
       "      <td>SV-HL-310a</td>\n",
       "      <td>Labor Practices</td>\n",
       "      <td>SV-HL</td>\n",
       "      <td>NaN</td>\n",
       "    </tr>\n",
       "    <tr>\n",
       "      <th>363</th>\n",
       "      <td>TC-ES-310a</td>\n",
       "      <td>Labor Practices</td>\n",
       "      <td>TC-ES</td>\n",
       "      <td>NaN</td>\n",
       "    </tr>\n",
       "    <tr>\n",
       "      <th>364</th>\n",
       "      <td>TC-ES-320a</td>\n",
       "      <td>Labor Conditions</td>\n",
       "      <td>TC-ES</td>\n",
       "      <td>NaN</td>\n",
       "    </tr>\n",
       "    <tr>\n",
       "      <th>400</th>\n",
       "      <td>TR-AF-310a</td>\n",
       "      <td>Labor Practices</td>\n",
       "      <td>TR-AF</td>\n",
       "      <td>NaN</td>\n",
       "    </tr>\n",
       "    <tr>\n",
       "      <th>405</th>\n",
       "      <td>TR-AL-310a</td>\n",
       "      <td>Labor Practices</td>\n",
       "      <td>TR-AL</td>\n",
       "      <td>NaN</td>\n",
       "    </tr>\n",
       "    <tr>\n",
       "      <th>416</th>\n",
       "      <td>TR-AU-310a</td>\n",
       "      <td>Labor Practices</td>\n",
       "      <td>TR-AU</td>\n",
       "      <td>NaN</td>\n",
       "    </tr>\n",
       "    <tr>\n",
       "      <th>424</th>\n",
       "      <td>TR-CL-310a</td>\n",
       "      <td>Labor Practices</td>\n",
       "      <td>TR-CL</td>\n",
       "      <td>NaN</td>\n",
       "    </tr>\n",
       "  </tbody>\n",
       "</table>\n",
       "</div>"
      ],
      "text/plain": [
       "    disclosure_topic_id                 disclosure_topic_name industry_id  \\\n",
       "2            CG-AA-430b  Labor Conditions in the Supply Chain       CG-AA   \n",
       "21           CG-MR-310a                       Labor Practices       CG-MR   \n",
       "25           CG-TS-430a  Labor Conditions in the Supply Chain       CG-TS   \n",
       "41           EM-CO-310a                       Labor Relations       EM-CO   \n",
       "75           EM-MM-310a                       Labor Relations       EM-MM   \n",
       "117          FB-FR-310a                       Labor Practices       FB-FR   \n",
       "150          FB-RN-310a                       Labor Practices       FB-RN   \n",
       "258          IF-WM-310a                       Labor Practices       IF-WM   \n",
       "350          SV-HL-310a                       Labor Practices       SV-HL   \n",
       "363          TC-ES-310a                       Labor Practices       TC-ES   \n",
       "364          TC-ES-320a                      Labor Conditions       TC-ES   \n",
       "400          TR-AF-310a                       Labor Practices       TR-AF   \n",
       "405          TR-AL-310a                       Labor Practices       TR-AL   \n",
       "416          TR-AU-310a                       Labor Practices       TR-AU   \n",
       "424          TR-CL-310a                       Labor Practices       TR-CL   \n",
       "\n",
       "     sustainability_dimension  \n",
       "2                         NaN  \n",
       "21                        NaN  \n",
       "25                        NaN  \n",
       "41                        NaN  \n",
       "75                        NaN  \n",
       "117                       NaN  \n",
       "150                       NaN  \n",
       "258                       NaN  \n",
       "350                       NaN  \n",
       "363                       NaN  \n",
       "364                       NaN  \n",
       "400                       NaN  \n",
       "405                       NaN  \n",
       "416                       NaN  \n",
       "424                       NaN  "
      ]
     },
     "execution_count": 7,
     "metadata": {},
     "output_type": "execute_result"
    }
   ],
   "source": [
    "# How many are related to labor? Subset Dataframe\n",
    "labor = toplabel[toplabel[\"disclosure_topic_name\"].str.contains(\"labor\", case = False) ]\n",
    "labor"
   ]
  },
  {
   "cell_type": "markdown",
   "metadata": {},
   "source": [
    "A column ```disclosure_islabor``` is added. It is True if the disclosure is related to labor."
   ]
  },
  {
   "cell_type": "code",
   "execution_count": 8,
   "metadata": {},
   "outputs": [
    {
     "data": {
      "text/html": [
       "<div>\n",
       "<style scoped>\n",
       "    .dataframe tbody tr th:only-of-type {\n",
       "        vertical-align: middle;\n",
       "    }\n",
       "\n",
       "    .dataframe tbody tr th {\n",
       "        vertical-align: top;\n",
       "    }\n",
       "\n",
       "    .dataframe thead th {\n",
       "        text-align: right;\n",
       "    }\n",
       "</style>\n",
       "<table border=\"1\" class=\"dataframe\">\n",
       "  <thead>\n",
       "    <tr style=\"text-align: right;\">\n",
       "      <th></th>\n",
       "      <th>disclosure_topic_id</th>\n",
       "      <th>disclosure_topic_name</th>\n",
       "      <th>industry_id</th>\n",
       "      <th>sustainability_dimension</th>\n",
       "      <th>disclosure_islabor</th>\n",
       "    </tr>\n",
       "  </thead>\n",
       "  <tbody>\n",
       "    <tr>\n",
       "      <th>0</th>\n",
       "      <td>CG-AA-250a</td>\n",
       "      <td>Management of Chemicals in Products</td>\n",
       "      <td>CG-AA</td>\n",
       "      <td>NaN</td>\n",
       "      <td>False</td>\n",
       "    </tr>\n",
       "    <tr>\n",
       "      <th>1</th>\n",
       "      <td>CG-AA-430a</td>\n",
       "      <td>Environmental Impacts in the Supply Chain</td>\n",
       "      <td>CG-AA</td>\n",
       "      <td>NaN</td>\n",
       "      <td>False</td>\n",
       "    </tr>\n",
       "    <tr>\n",
       "      <th>2</th>\n",
       "      <td>CG-AA-430b</td>\n",
       "      <td>Labor Conditions in the Supply Chain</td>\n",
       "      <td>CG-AA</td>\n",
       "      <td>NaN</td>\n",
       "      <td>True</td>\n",
       "    </tr>\n",
       "    <tr>\n",
       "      <th>3</th>\n",
       "      <td>CG-AA-440a</td>\n",
       "      <td>Raw Materials Sourcing</td>\n",
       "      <td>CG-AA</td>\n",
       "      <td>NaN</td>\n",
       "      <td>False</td>\n",
       "    </tr>\n",
       "    <tr>\n",
       "      <th>4</th>\n",
       "      <td>CG-AM-250a</td>\n",
       "      <td>Product Safety</td>\n",
       "      <td>CG-AM</td>\n",
       "      <td>NaN</td>\n",
       "      <td>False</td>\n",
       "    </tr>\n",
       "  </tbody>\n",
       "</table>\n",
       "</div>"
      ],
      "text/plain": [
       "  disclosure_topic_id                      disclosure_topic_name industry_id  \\\n",
       "0          CG-AA-250a        Management of Chemicals in Products       CG-AA   \n",
       "1          CG-AA-430a  Environmental Impacts in the Supply Chain       CG-AA   \n",
       "2          CG-AA-430b       Labor Conditions in the Supply Chain       CG-AA   \n",
       "3          CG-AA-440a                     Raw Materials Sourcing       CG-AA   \n",
       "4          CG-AM-250a                             Product Safety       CG-AM   \n",
       "\n",
       "   sustainability_dimension  disclosure_islabor  \n",
       "0                       NaN               False  \n",
       "1                       NaN               False  \n",
       "2                       NaN                True  \n",
       "3                       NaN               False  \n",
       "4                       NaN               False  "
      ]
     },
     "execution_count": 8,
     "metadata": {},
     "output_type": "execute_result"
    }
   ],
   "source": [
    "# Create new label that flags labor only\n",
    "toplabel[\"disclosure_islabor\"] = toplabel[\"disclosure_topic_name\"].str.contains(\"labor\", case = False)\n",
    "toplabel.head()"
   ]
  },
  {
   "cell_type": "code",
   "execution_count": 9,
   "metadata": {},
   "outputs": [
    {
     "data": {
      "text/plain": [
       "False    429\n",
       "True      15\n",
       "Name: disclosure_islabor, dtype: int64"
      ]
     },
     "execution_count": 9,
     "metadata": {},
     "output_type": "execute_result"
    }
   ],
   "source": [
    "toplabel['disclosure_islabor'].value_counts()"
   ]
  },
  {
   "cell_type": "code",
   "execution_count": 10,
   "metadata": {},
   "outputs": [
    {
     "data": {
      "text/plain": [
       "(20626, 8)"
      ]
     },
     "execution_count": 10,
     "metadata": {},
     "output_type": "execute_result"
    }
   ],
   "source": [
    "# Check excerpts more closely\n",
    "json[\"excerpt\"].head()\n",
    "\n",
    "# Are there any duplicates in text, in excerpt_id?\n",
    "json.shape\n",
    "json.drop_duplicates(\"excerpt\").shape\n",
    "json.drop_duplicates(\"excerpt_id\").shape\n",
    "# So, there are duplicates in text but not in excerpt_id\n",
    "\n",
    "# What proportion are quality_assessment, relevance_assessment categories?\n",
    "#json[\"relevance_assessment\"].groupby(\"relevance_assessment\").agg(\"count\")\n",
    "\n",
    "# Are there any duplicates in text, in excerpt_id?"
   ]
  },
  {
   "cell_type": "code",
   "execution_count": 11,
   "metadata": {},
   "outputs": [
    {
     "data": {
      "text/html": [
       "<div>\n",
       "<style scoped>\n",
       "    .dataframe tbody tr th:only-of-type {\n",
       "        vertical-align: middle;\n",
       "    }\n",
       "\n",
       "    .dataframe tbody tr th {\n",
       "        vertical-align: top;\n",
       "    }\n",
       "\n",
       "    .dataframe thead th {\n",
       "        text-align: right;\n",
       "    }\n",
       "</style>\n",
       "<table border=\"1\" class=\"dataframe\">\n",
       "  <thead>\n",
       "    <tr style=\"text-align: right;\">\n",
       "      <th></th>\n",
       "      <th>excerpt_id</th>\n",
       "      <th>excerpt</th>\n",
       "      <th>company_ticker</th>\n",
       "      <th>disclosure_topic_id</th>\n",
       "      <th>industry_id_x</th>\n",
       "      <th>source_document</th>\n",
       "      <th>relevance_assessment</th>\n",
       "      <th>quality_assessment</th>\n",
       "      <th>disclosure_topic_name</th>\n",
       "      <th>industry_id_y</th>\n",
       "      <th>sustainability_dimension</th>\n",
       "      <th>disclosure_islabor</th>\n",
       "    </tr>\n",
       "  </thead>\n",
       "  <tbody>\n",
       "    <tr>\n",
       "      <th>0</th>\n",
       "      <td>2017-AAL-TR-AL-310a-147641</td>\n",
       "      <td>Reclassifications out of AOCI for the years en...</td>\n",
       "      <td>AAL</td>\n",
       "      <td>TR-AL-310a</td>\n",
       "      <td>TR-AL</td>\n",
       "      <td></td>\n",
       "      <td>No Disclosure</td>\n",
       "      <td>No Disclosure</td>\n",
       "      <td>Labor Practices</td>\n",
       "      <td>TR-AL</td>\n",
       "      <td>NaN</td>\n",
       "      <td>True</td>\n",
       "    </tr>\n",
       "    <tr>\n",
       "      <th>1</th>\n",
       "      <td>2017-AAL-TR-AL-310a-147711</td>\n",
       "      <td>Earnings per share:\\nShares used for computati...</td>\n",
       "      <td>AAL</td>\n",
       "      <td>TR-AL-310a</td>\n",
       "      <td>TR-AL</td>\n",
       "      <td></td>\n",
       "      <td>No Disclosure</td>\n",
       "      <td>No Disclosure</td>\n",
       "      <td>Labor Practices</td>\n",
       "      <td>TR-AL</td>\n",
       "      <td>NaN</td>\n",
       "      <td>True</td>\n",
       "    </tr>\n",
       "    <tr>\n",
       "      <th>2</th>\n",
       "      <td>2017-AAL-TR-AL-310a-148045</td>\n",
       "      <td>Reclassifications out of AOCI for the years en...</td>\n",
       "      <td>AAL</td>\n",
       "      <td>TR-AL-310a</td>\n",
       "      <td>TR-AL</td>\n",
       "      <td></td>\n",
       "      <td>No Disclosure</td>\n",
       "      <td>No Disclosure</td>\n",
       "      <td>Labor Practices</td>\n",
       "      <td>TR-AL</td>\n",
       "      <td>NaN</td>\n",
       "      <td>True</td>\n",
       "    </tr>\n",
       "    <tr>\n",
       "      <th>3</th>\n",
       "      <td>2017-AAL-TR-AL-310a-2483765</td>\n",
       "      <td>Approximate number of active full-time equival...</td>\n",
       "      <td>AAL</td>\n",
       "      <td>TR-AL-310a</td>\n",
       "      <td>TR-AL</td>\n",
       "      <td></td>\n",
       "      <td>No Disclosure</td>\n",
       "      <td>No Disclosure</td>\n",
       "      <td>Labor Practices</td>\n",
       "      <td>TR-AL</td>\n",
       "      <td>NaN</td>\n",
       "      <td>True</td>\n",
       "    </tr>\n",
       "    <tr>\n",
       "      <th>4</th>\n",
       "      <td>2017-AAL-TR-AL-310a-2484043</td>\n",
       "      <td>Employee bonus expense included costs related ...</td>\n",
       "      <td>AAL</td>\n",
       "      <td>TR-AL-310a</td>\n",
       "      <td>TR-AL</td>\n",
       "      <td></td>\n",
       "      <td>No Disclosure</td>\n",
       "      <td>No Disclosure</td>\n",
       "      <td>Labor Practices</td>\n",
       "      <td>TR-AL</td>\n",
       "      <td>NaN</td>\n",
       "      <td>True</td>\n",
       "    </tr>\n",
       "  </tbody>\n",
       "</table>\n",
       "</div>"
      ],
      "text/plain": [
       "                    excerpt_id  \\\n",
       "0   2017-AAL-TR-AL-310a-147641   \n",
       "1   2017-AAL-TR-AL-310a-147711   \n",
       "2   2017-AAL-TR-AL-310a-148045   \n",
       "3  2017-AAL-TR-AL-310a-2483765   \n",
       "4  2017-AAL-TR-AL-310a-2484043   \n",
       "\n",
       "                                             excerpt company_ticker  \\\n",
       "0  Reclassifications out of AOCI for the years en...            AAL   \n",
       "1  Earnings per share:\\nShares used for computati...            AAL   \n",
       "2  Reclassifications out of AOCI for the years en...            AAL   \n",
       "3  Approximate number of active full-time equival...            AAL   \n",
       "4  Employee bonus expense included costs related ...            AAL   \n",
       "\n",
       "  disclosure_topic_id industry_id_x source_document relevance_assessment  \\\n",
       "0          TR-AL-310a         TR-AL                        No Disclosure   \n",
       "1          TR-AL-310a         TR-AL                        No Disclosure   \n",
       "2          TR-AL-310a         TR-AL                        No Disclosure   \n",
       "3          TR-AL-310a         TR-AL                        No Disclosure   \n",
       "4          TR-AL-310a         TR-AL                        No Disclosure   \n",
       "\n",
       "  quality_assessment disclosure_topic_name industry_id_y  \\\n",
       "0      No Disclosure       Labor Practices         TR-AL   \n",
       "1      No Disclosure       Labor Practices         TR-AL   \n",
       "2      No Disclosure       Labor Practices         TR-AL   \n",
       "3      No Disclosure       Labor Practices         TR-AL   \n",
       "4      No Disclosure       Labor Practices         TR-AL   \n",
       "\n",
       "   sustainability_dimension  disclosure_islabor  \n",
       "0                       NaN                True  \n",
       "1                       NaN                True  \n",
       "2                       NaN                True  \n",
       "3                       NaN                True  \n",
       "4                       NaN                True  "
      ]
     },
     "execution_count": 11,
     "metadata": {},
     "output_type": "execute_result"
    }
   ],
   "source": [
    "# Merge, take tally of all disclosure topic occurrences\n",
    "json = pd.merge(json, right = toplabel, \n",
    "               on = \"disclosure_topic_id\")\n",
    "json.head()\n",
    "\n",
    "# # Figure out how many related to any disclosure\n",
    "# json[\"is_disclosure\"] = json[\"relevance_assessment\"]\n",
    "# # Figure out how many related to labor"
   ]
  },
  {
   "cell_type": "code",
   "execution_count": 12,
   "metadata": {},
   "outputs": [
    {
     "data": {
      "text/html": [
       "<div>\n",
       "<style scoped>\n",
       "    .dataframe tbody tr th:only-of-type {\n",
       "        vertical-align: middle;\n",
       "    }\n",
       "\n",
       "    .dataframe tbody tr th {\n",
       "        vertical-align: top;\n",
       "    }\n",
       "\n",
       "    .dataframe thead th {\n",
       "        text-align: right;\n",
       "    }\n",
       "</style>\n",
       "<table border=\"1\" class=\"dataframe\">\n",
       "  <thead>\n",
       "    <tr style=\"text-align: right;\">\n",
       "      <th></th>\n",
       "      <th>excerpt_id</th>\n",
       "      <th>excerpt</th>\n",
       "      <th>company_ticker</th>\n",
       "      <th>disclosure_topic_id</th>\n",
       "      <th>industry_id_x</th>\n",
       "      <th>source_document</th>\n",
       "      <th>relevance_assessment</th>\n",
       "      <th>quality_assessment</th>\n",
       "      <th>disclosure_topic_name</th>\n",
       "      <th>industry_id_y</th>\n",
       "      <th>sustainability_dimension</th>\n",
       "      <th>disclosure_islabor</th>\n",
       "    </tr>\n",
       "  </thead>\n",
       "  <tbody>\n",
       "    <tr>\n",
       "      <th>6</th>\n",
       "      <td>2017-AAL-TR-AL-310a-2484240</td>\n",
       "      <td>Salaries, wages and benefits increased 8.5% pr...</td>\n",
       "      <td>AAL</td>\n",
       "      <td>TR-AL-310a</td>\n",
       "      <td>TR-AL</td>\n",
       "      <td></td>\n",
       "      <td>Relevant</td>\n",
       "      <td>Metrics</td>\n",
       "      <td>Labor Practices</td>\n",
       "      <td>TR-AL</td>\n",
       "      <td>NaN</td>\n",
       "      <td>True</td>\n",
       "    </tr>\n",
       "    <tr>\n",
       "      <th>7</th>\n",
       "      <td>2017-AAL-TR-AL-310a-2484280</td>\n",
       "      <td>Salaries, wages and benefits increased 14.4% p...</td>\n",
       "      <td>AAL</td>\n",
       "      <td>TR-AL-310a</td>\n",
       "      <td>TR-AL</td>\n",
       "      <td></td>\n",
       "      <td>Relevant</td>\n",
       "      <td>Metrics</td>\n",
       "      <td>Labor Practices</td>\n",
       "      <td>TR-AL</td>\n",
       "      <td>NaN</td>\n",
       "      <td>True</td>\n",
       "    </tr>\n",
       "    <tr>\n",
       "      <th>12</th>\n",
       "      <td>2017-AAL-TR-AL-310a-2485047</td>\n",
       "      <td>Labor contract expenses primarily included one...</td>\n",
       "      <td>AAL</td>\n",
       "      <td>TR-AL-310a</td>\n",
       "      <td>TR-AL</td>\n",
       "      <td></td>\n",
       "      <td>Relevant</td>\n",
       "      <td>Company Tailored Narrative</td>\n",
       "      <td>Labor Practices</td>\n",
       "      <td>TR-AL</td>\n",
       "      <td>NaN</td>\n",
       "      <td>True</td>\n",
       "    </tr>\n",
       "    <tr>\n",
       "      <th>13</th>\n",
       "      <td>2017-AAL-TR-AL-310a-2485164</td>\n",
       "      <td>American sponsors defined benefit and defined ...</td>\n",
       "      <td>AAL</td>\n",
       "      <td>TR-AL-310a</td>\n",
       "      <td>TR-AL</td>\n",
       "      <td></td>\n",
       "      <td>Relevant</td>\n",
       "      <td>Metrics</td>\n",
       "      <td>Labor Practices</td>\n",
       "      <td>TR-AL</td>\n",
       "      <td>NaN</td>\n",
       "      <td>True</td>\n",
       "    </tr>\n",
       "    <tr>\n",
       "      <th>14</th>\n",
       "      <td>2017-AAL-TR-AL-310a-2485169</td>\n",
       "      <td>During 2017, American contributed $286 million...</td>\n",
       "      <td>AAL</td>\n",
       "      <td>TR-AL-310a</td>\n",
       "      <td>TR-AL</td>\n",
       "      <td></td>\n",
       "      <td>Relevant</td>\n",
       "      <td>Metrics</td>\n",
       "      <td>Labor Practices</td>\n",
       "      <td>TR-AL</td>\n",
       "      <td>NaN</td>\n",
       "      <td>True</td>\n",
       "    </tr>\n",
       "    <tr>\n",
       "      <th>...</th>\n",
       "      <td>...</td>\n",
       "      <td>...</td>\n",
       "      <td>...</td>\n",
       "      <td>...</td>\n",
       "      <td>...</td>\n",
       "      <td>...</td>\n",
       "      <td>...</td>\n",
       "      <td>...</td>\n",
       "      <td>...</td>\n",
       "      <td>...</td>\n",
       "      <td>...</td>\n",
       "      <td>...</td>\n",
       "    </tr>\n",
       "    <tr>\n",
       "      <th>19760</th>\n",
       "      <td>A2_01-01-2019_SANM_10-K_TC-ES-320a_6M</td>\n",
       "      <td>We have a range of corporate programs that aim...</td>\n",
       "      <td>SANM</td>\n",
       "      <td>TC-ES-320a</td>\n",
       "      <td>TC-ES</td>\n",
       "      <td>10-K</td>\n",
       "      <td>Relevant</td>\n",
       "      <td>Company Tailored Narrative</td>\n",
       "      <td>Labor Conditions</td>\n",
       "      <td>TC-ES</td>\n",
       "      <td>NaN</td>\n",
       "      <td>True</td>\n",
       "    </tr>\n",
       "    <tr>\n",
       "      <th>19761</th>\n",
       "      <td>A2_01-01-2019_SANM_10-K_TC-ES-320a_8</td>\n",
       "      <td>If we manufacture or design defective products...</td>\n",
       "      <td>SANM</td>\n",
       "      <td>TC-ES-320a</td>\n",
       "      <td>TC-ES</td>\n",
       "      <td>10-K</td>\n",
       "      <td>Relevant</td>\n",
       "      <td>Boilerplate</td>\n",
       "      <td>Labor Conditions</td>\n",
       "      <td>TC-ES</td>\n",
       "      <td>NaN</td>\n",
       "      <td>True</td>\n",
       "    </tr>\n",
       "    <tr>\n",
       "      <th>19762</th>\n",
       "      <td>A2_01-01-2019_SGMA_10-K_TC-ES-320a_3</td>\n",
       "      <td>The Company’s operations are subject to certai...</td>\n",
       "      <td>SGMA</td>\n",
       "      <td>TC-ES-320a</td>\n",
       "      <td>TC-ES</td>\n",
       "      <td>10-K</td>\n",
       "      <td>Relevant</td>\n",
       "      <td>Boilerplate</td>\n",
       "      <td>Labor Conditions</td>\n",
       "      <td>TC-ES</td>\n",
       "      <td>NaN</td>\n",
       "      <td>True</td>\n",
       "    </tr>\n",
       "    <tr>\n",
       "      <th>19764</th>\n",
       "      <td>A2_2019_PLXS_TC-ES-320a_973119</td>\n",
       "      <td>Plexus is committed to social responsibility t...</td>\n",
       "      <td>PLXS</td>\n",
       "      <td>TC-ES-320a</td>\n",
       "      <td>TC-ES</td>\n",
       "      <td>10-K</td>\n",
       "      <td>Relevant</td>\n",
       "      <td>Company Tailored Narrative</td>\n",
       "      <td>Labor Conditions</td>\n",
       "      <td>TC-ES</td>\n",
       "      <td>NaN</td>\n",
       "      <td>True</td>\n",
       "    </tr>\n",
       "    <tr>\n",
       "      <th>20625</th>\n",
       "      <td>SD_2017_M_IHG_SV-HL-310a</td>\n",
       "      <td>We continue to deliver against our D&amp;I Policy ...</td>\n",
       "      <td>IHG</td>\n",
       "      <td>SV-HL-310a</td>\n",
       "      <td>SV-HL</td>\n",
       "      <td>None</td>\n",
       "      <td>Relevant</td>\n",
       "      <td>Metrics</td>\n",
       "      <td>Labor Practices</td>\n",
       "      <td>SV-HL</td>\n",
       "      <td>NaN</td>\n",
       "      <td>True</td>\n",
       "    </tr>\n",
       "  </tbody>\n",
       "</table>\n",
       "<p>2162 rows × 12 columns</p>\n",
       "</div>"
      ],
      "text/plain": [
       "                                  excerpt_id  \\\n",
       "6                2017-AAL-TR-AL-310a-2484240   \n",
       "7                2017-AAL-TR-AL-310a-2484280   \n",
       "12               2017-AAL-TR-AL-310a-2485047   \n",
       "13               2017-AAL-TR-AL-310a-2485164   \n",
       "14               2017-AAL-TR-AL-310a-2485169   \n",
       "...                                      ...   \n",
       "19760  A2_01-01-2019_SANM_10-K_TC-ES-320a_6M   \n",
       "19761   A2_01-01-2019_SANM_10-K_TC-ES-320a_8   \n",
       "19762   A2_01-01-2019_SGMA_10-K_TC-ES-320a_3   \n",
       "19764         A2_2019_PLXS_TC-ES-320a_973119   \n",
       "20625               SD_2017_M_IHG_SV-HL-310a   \n",
       "\n",
       "                                                 excerpt company_ticker  \\\n",
       "6      Salaries, wages and benefits increased 8.5% pr...            AAL   \n",
       "7      Salaries, wages and benefits increased 14.4% p...            AAL   \n",
       "12     Labor contract expenses primarily included one...            AAL   \n",
       "13     American sponsors defined benefit and defined ...            AAL   \n",
       "14     During 2017, American contributed $286 million...            AAL   \n",
       "...                                                  ...            ...   \n",
       "19760  We have a range of corporate programs that aim...           SANM   \n",
       "19761  If we manufacture or design defective products...           SANM   \n",
       "19762  The Company’s operations are subject to certai...           SGMA   \n",
       "19764  Plexus is committed to social responsibility t...           PLXS   \n",
       "20625  We continue to deliver against our D&I Policy ...            IHG   \n",
       "\n",
       "      disclosure_topic_id industry_id_x source_document relevance_assessment  \\\n",
       "6              TR-AL-310a         TR-AL                             Relevant   \n",
       "7              TR-AL-310a         TR-AL                             Relevant   \n",
       "12             TR-AL-310a         TR-AL                             Relevant   \n",
       "13             TR-AL-310a         TR-AL                             Relevant   \n",
       "14             TR-AL-310a         TR-AL                             Relevant   \n",
       "...                   ...           ...             ...                  ...   \n",
       "19760          TC-ES-320a         TC-ES            10-K             Relevant   \n",
       "19761          TC-ES-320a         TC-ES            10-K             Relevant   \n",
       "19762          TC-ES-320a         TC-ES            10-K             Relevant   \n",
       "19764          TC-ES-320a         TC-ES            10-K             Relevant   \n",
       "20625          SV-HL-310a         SV-HL            None             Relevant   \n",
       "\n",
       "               quality_assessment disclosure_topic_name industry_id_y  \\\n",
       "6                         Metrics       Labor Practices         TR-AL   \n",
       "7                         Metrics       Labor Practices         TR-AL   \n",
       "12     Company Tailored Narrative       Labor Practices         TR-AL   \n",
       "13                        Metrics       Labor Practices         TR-AL   \n",
       "14                        Metrics       Labor Practices         TR-AL   \n",
       "...                           ...                   ...           ...   \n",
       "19760  Company Tailored Narrative      Labor Conditions         TC-ES   \n",
       "19761                 Boilerplate      Labor Conditions         TC-ES   \n",
       "19762                 Boilerplate      Labor Conditions         TC-ES   \n",
       "19764  Company Tailored Narrative      Labor Conditions         TC-ES   \n",
       "20625                     Metrics       Labor Practices         SV-HL   \n",
       "\n",
       "       sustainability_dimension  disclosure_islabor  \n",
       "6                           NaN                True  \n",
       "7                           NaN                True  \n",
       "12                          NaN                True  \n",
       "13                          NaN                True  \n",
       "14                          NaN                True  \n",
       "...                         ...                 ...  \n",
       "19760                       NaN                True  \n",
       "19761                       NaN                True  \n",
       "19762                       NaN                True  \n",
       "19764                       NaN                True  \n",
       "20625                       NaN                True  \n",
       "\n",
       "[2162 rows x 12 columns]"
      ]
     },
     "execution_count": 12,
     "metadata": {},
     "output_type": "execute_result"
    }
   ],
   "source": [
    "#subset dataframe: relevance assessment is Relevant and disclosure is True\n",
    "\n",
    "json[(json['relevance_assessment'] == 'Relevant') & (json['disclosure_islabor']==True)]"
   ]
  },
  {
   "cell_type": "code",
   "execution_count": 13,
   "metadata": {},
   "outputs": [],
   "source": [
    "# add label: target is 1\n",
    "json['relevance_islabor'] = np.where((json['relevance_assessment']=='Relevant')&(json['disclosure_islabor']==True), 1, 0)"
   ]
  },
  {
   "cell_type": "code",
   "execution_count": 14,
   "metadata": {},
   "outputs": [
    {
     "data": {
      "text/plain": [
       "0    18464\n",
       "1     2162\n",
       "Name: relevance_islabor, dtype: int64"
      ]
     },
     "execution_count": 14,
     "metadata": {},
     "output_type": "execute_result"
    }
   ],
   "source": [
    "json['relevance_islabor'].value_counts()"
   ]
  },
  {
   "cell_type": "markdown",
   "metadata": {},
   "source": [
    "The graph below shows that the target variable ```relevance_islabor``` is imbalanced."
   ]
  },
  {
   "cell_type": "code",
   "execution_count": 15,
   "metadata": {},
   "outputs": [
    {
     "data": {
      "text/plain": [
       "<matplotlib.axes._subplots.AxesSubplot at 0x1a34407b90>"
      ]
     },
     "execution_count": 15,
     "metadata": {},
     "output_type": "execute_result"
    },
    {
     "data": {
      "image/png": "[encoded data removed]",
      "text/plain": [
       "<Figure size 432x288 with 1 Axes>"
      ]
     },
     "metadata": {
      "needs_background": "light"
     },
     "output_type": "display_data"
    }
   ],
   "source": [
    "json['relevance_islabor'].value_counts().plot(kind='bar')"
   ]
  },
  {
   "cell_type": "code",
   "execution_count": 16,
   "metadata": {},
   "outputs": [
    {
     "data": {
      "text/plain": [
       "<matplotlib.axes._subplots.AxesSubplot at 0x1a344809d0>"
      ]
     },
     "execution_count": 16,
     "metadata": {},
     "output_type": "execute_result"
    },
    {
     "data": {
      "image/png": "[encoded data removed]",
      "text/plain": [
       "<Figure size 432x288 with 1 Axes>"
      ]
     },
     "metadata": {
      "needs_background": "light"
     },
     "output_type": "display_data"
    }
   ],
   "source": [
    "json['disclosure_topic_name'].value_counts().plot(kind='bar')"
   ]
  },
  {
   "cell_type": "markdown",
   "metadata": {},
   "source": [
    "### Text Pre-processing"
   ]
  },
  {
   "cell_type": "markdown",
   "metadata": {},
   "source": [
    "Text must be preprocessed into numerical form before performing classification."
   ]
  },
  {
   "cell_type": "code",
   "execution_count": 18,
   "metadata": {},
   "outputs": [],
   "source": [
    "def stem_tokenizer(text):\n",
    "    porter_stemmer=PorterStemmer()\n",
    "    return [porter_stemmer.stem(token) for token in word_tokenize(text.lower())]\n",
    "\n",
    "def my_tokenizer(text):\n",
    "    porter_stemmer = PorterStemmer()\n",
    "    punctuation=list(string.punctuation)\n",
    "    #added_stopwords (DOMAIN SPECIFIC): director, compani, share, stock\n",
    "    stop0=\" \".join(stopwords.words(\"english\")+punctuation) #add more stopwords?\n",
    "    stop_words=set(stem_tokenizer(stop0))\n",
    "    stem_list=stem_tokenizer(text)\n",
    "    used_list=[token for token in stem_list if token not in stop_words]\n",
    "    return used_list\n",
    "\n",
    "# create a dataframe from a word matrix\n",
    "def wm2df(wm, feat_names):\n",
    "    \n",
    "    # create an index for each row\n",
    "    doc_names = ['Excerpt {:d}'.format(idx) for idx, _ in enumerate(wm)]\n",
    "    df = pd.DataFrame(data=wm.toarray(), index=doc_names,\n",
    "                      columns=feat_names)\n",
    "    return(df)"
   ]
  },
  {
   "cell_type": "code",
   "execution_count": 19,
   "metadata": {},
   "outputs": [],
   "source": [
    "#Array of Excerpts to be pre-processed\n",
    "text_train = np.array(json['excerpt'])"
   ]
  },
  {
   "cell_type": "markdown",
   "metadata": {},
   "source": [
    "### a. Count Vectorizer"
   ]
  },
  {
   "cell_type": "code",
   "execution_count": 18,
   "metadata": {},
   "outputs": [
    {
     "data": {
      "text/html": [
       "<div>\n",
       "<style scoped>\n",
       "    .dataframe tbody tr th:only-of-type {\n",
       "        vertical-align: middle;\n",
       "    }\n",
       "\n",
       "    .dataframe tbody tr th {\n",
       "        vertical-align: top;\n",
       "    }\n",
       "\n",
       "    .dataframe thead th {\n",
       "        text-align: right;\n",
       "    }\n",
       "</style>\n",
       "<table border=\"1\" class=\"dataframe\">\n",
       "  <thead>\n",
       "    <tr style=\"text-align: right;\">\n",
       "      <th></th>\n",
       "      <th>''</th>\n",
       "      <th>'100</th>\n",
       "      <th>'1999</th>\n",
       "      <th>'2004</th>\n",
       "      <th>'2009</th>\n",
       "      <th>'2012</th>\n",
       "      <th>'2013</th>\n",
       "      <th>'2014</th>\n",
       "      <th>'2015</th>\n",
       "      <th>'2016</th>\n",
       "      <th>...</th>\n",
       "      <th>€6.74</th>\n",
       "      <th>€633.0</th>\n",
       "      <th>€7.2</th>\n",
       "      <th>€7.3</th>\n",
       "      <th>€7.5</th>\n",
       "      <th>€738.5</th>\n",
       "      <th>€8.35</th>\n",
       "      <th>€9.3</th>\n",
       "      <th>€9.7</th>\n",
       "      <th>€nil</th>\n",
       "    </tr>\n",
       "  </thead>\n",
       "  <tbody>\n",
       "    <tr>\n",
       "      <th>Excerpt 0</th>\n",
       "      <td>0.0</td>\n",
       "      <td>0.0</td>\n",
       "      <td>0.0</td>\n",
       "      <td>0.0</td>\n",
       "      <td>0.0</td>\n",
       "      <td>0.0</td>\n",
       "      <td>0.0</td>\n",
       "      <td>0.0</td>\n",
       "      <td>0.0</td>\n",
       "      <td>0.0</td>\n",
       "      <td>...</td>\n",
       "      <td>0.0</td>\n",
       "      <td>0.0</td>\n",
       "      <td>0.0</td>\n",
       "      <td>0.0</td>\n",
       "      <td>0.0</td>\n",
       "      <td>0.0</td>\n",
       "      <td>0.0</td>\n",
       "      <td>0.0</td>\n",
       "      <td>0.0</td>\n",
       "      <td>0.0</td>\n",
       "    </tr>\n",
       "    <tr>\n",
       "      <th>Excerpt 1</th>\n",
       "      <td>0.0</td>\n",
       "      <td>0.0</td>\n",
       "      <td>0.0</td>\n",
       "      <td>0.0</td>\n",
       "      <td>0.0</td>\n",
       "      <td>0.0</td>\n",
       "      <td>0.0</td>\n",
       "      <td>0.0</td>\n",
       "      <td>0.0</td>\n",
       "      <td>0.0</td>\n",
       "      <td>...</td>\n",
       "      <td>0.0</td>\n",
       "      <td>0.0</td>\n",
       "      <td>0.0</td>\n",
       "      <td>0.0</td>\n",
       "      <td>0.0</td>\n",
       "      <td>0.0</td>\n",
       "      <td>0.0</td>\n",
       "      <td>0.0</td>\n",
       "      <td>0.0</td>\n",
       "      <td>0.0</td>\n",
       "    </tr>\n",
       "    <tr>\n",
       "      <th>Excerpt 2</th>\n",
       "      <td>0.0</td>\n",
       "      <td>0.0</td>\n",
       "      <td>0.0</td>\n",
       "      <td>0.0</td>\n",
       "      <td>0.0</td>\n",
       "      <td>0.0</td>\n",
       "      <td>0.0</td>\n",
       "      <td>0.0</td>\n",
       "      <td>0.0</td>\n",
       "      <td>0.0</td>\n",
       "      <td>...</td>\n",
       "      <td>0.0</td>\n",
       "      <td>0.0</td>\n",
       "      <td>0.0</td>\n",
       "      <td>0.0</td>\n",
       "      <td>0.0</td>\n",
       "      <td>0.0</td>\n",
       "      <td>0.0</td>\n",
       "      <td>0.0</td>\n",
       "      <td>0.0</td>\n",
       "      <td>0.0</td>\n",
       "    </tr>\n",
       "    <tr>\n",
       "      <th>Excerpt 3</th>\n",
       "      <td>0.0</td>\n",
       "      <td>0.0</td>\n",
       "      <td>0.0</td>\n",
       "      <td>0.0</td>\n",
       "      <td>0.0</td>\n",
       "      <td>0.0</td>\n",
       "      <td>0.0</td>\n",
       "      <td>0.0</td>\n",
       "      <td>0.0</td>\n",
       "      <td>0.0</td>\n",
       "      <td>...</td>\n",
       "      <td>0.0</td>\n",
       "      <td>0.0</td>\n",
       "      <td>0.0</td>\n",
       "      <td>0.0</td>\n",
       "      <td>0.0</td>\n",
       "      <td>0.0</td>\n",
       "      <td>0.0</td>\n",
       "      <td>0.0</td>\n",
       "      <td>0.0</td>\n",
       "      <td>0.0</td>\n",
       "    </tr>\n",
       "    <tr>\n",
       "      <th>Excerpt 4</th>\n",
       "      <td>0.0</td>\n",
       "      <td>0.0</td>\n",
       "      <td>0.0</td>\n",
       "      <td>0.0</td>\n",
       "      <td>0.0</td>\n",
       "      <td>0.0</td>\n",
       "      <td>0.0</td>\n",
       "      <td>0.0</td>\n",
       "      <td>0.0</td>\n",
       "      <td>0.0</td>\n",
       "      <td>...</td>\n",
       "      <td>0.0</td>\n",
       "      <td>0.0</td>\n",
       "      <td>0.0</td>\n",
       "      <td>0.0</td>\n",
       "      <td>0.0</td>\n",
       "      <td>0.0</td>\n",
       "      <td>0.0</td>\n",
       "      <td>0.0</td>\n",
       "      <td>0.0</td>\n",
       "      <td>0.0</td>\n",
       "    </tr>\n",
       "    <tr>\n",
       "      <th>...</th>\n",
       "      <td>...</td>\n",
       "      <td>...</td>\n",
       "      <td>...</td>\n",
       "      <td>...</td>\n",
       "      <td>...</td>\n",
       "      <td>...</td>\n",
       "      <td>...</td>\n",
       "      <td>...</td>\n",
       "      <td>...</td>\n",
       "      <td>...</td>\n",
       "      <td>...</td>\n",
       "      <td>...</td>\n",
       "      <td>...</td>\n",
       "      <td>...</td>\n",
       "      <td>...</td>\n",
       "      <td>...</td>\n",
       "      <td>...</td>\n",
       "      <td>...</td>\n",
       "      <td>...</td>\n",
       "      <td>...</td>\n",
       "      <td>...</td>\n",
       "    </tr>\n",
       "    <tr>\n",
       "      <th>Excerpt 20621</th>\n",
       "      <td>0.0</td>\n",
       "      <td>0.0</td>\n",
       "      <td>0.0</td>\n",
       "      <td>0.0</td>\n",
       "      <td>0.0</td>\n",
       "      <td>0.0</td>\n",
       "      <td>0.0</td>\n",
       "      <td>0.0</td>\n",
       "      <td>0.0</td>\n",
       "      <td>0.0</td>\n",
       "      <td>...</td>\n",
       "      <td>0.0</td>\n",
       "      <td>0.0</td>\n",
       "      <td>0.0</td>\n",
       "      <td>0.0</td>\n",
       "      <td>0.0</td>\n",
       "      <td>0.0</td>\n",
       "      <td>0.0</td>\n",
       "      <td>0.0</td>\n",
       "      <td>0.0</td>\n",
       "      <td>0.0</td>\n",
       "    </tr>\n",
       "    <tr>\n",
       "      <th>Excerpt 20622</th>\n",
       "      <td>0.0</td>\n",
       "      <td>0.0</td>\n",
       "      <td>0.0</td>\n",
       "      <td>0.0</td>\n",
       "      <td>0.0</td>\n",
       "      <td>0.0</td>\n",
       "      <td>0.0</td>\n",
       "      <td>0.0</td>\n",
       "      <td>0.0</td>\n",
       "      <td>0.0</td>\n",
       "      <td>...</td>\n",
       "      <td>0.0</td>\n",
       "      <td>0.0</td>\n",
       "      <td>0.0</td>\n",
       "      <td>0.0</td>\n",
       "      <td>0.0</td>\n",
       "      <td>0.0</td>\n",
       "      <td>0.0</td>\n",
       "      <td>0.0</td>\n",
       "      <td>0.0</td>\n",
       "      <td>0.0</td>\n",
       "    </tr>\n",
       "    <tr>\n",
       "      <th>Excerpt 20623</th>\n",
       "      <td>0.0</td>\n",
       "      <td>0.0</td>\n",
       "      <td>0.0</td>\n",
       "      <td>0.0</td>\n",
       "      <td>0.0</td>\n",
       "      <td>0.0</td>\n",
       "      <td>0.0</td>\n",
       "      <td>0.0</td>\n",
       "      <td>0.0</td>\n",
       "      <td>0.0</td>\n",
       "      <td>...</td>\n",
       "      <td>0.0</td>\n",
       "      <td>0.0</td>\n",
       "      <td>0.0</td>\n",
       "      <td>0.0</td>\n",
       "      <td>0.0</td>\n",
       "      <td>0.0</td>\n",
       "      <td>0.0</td>\n",
       "      <td>0.0</td>\n",
       "      <td>0.0</td>\n",
       "      <td>0.0</td>\n",
       "    </tr>\n",
       "    <tr>\n",
       "      <th>Excerpt 20624</th>\n",
       "      <td>0.0</td>\n",
       "      <td>0.0</td>\n",
       "      <td>0.0</td>\n",
       "      <td>0.0</td>\n",
       "      <td>0.0</td>\n",
       "      <td>0.0</td>\n",
       "      <td>0.0</td>\n",
       "      <td>0.0</td>\n",
       "      <td>0.0</td>\n",
       "      <td>0.0</td>\n",
       "      <td>...</td>\n",
       "      <td>0.0</td>\n",
       "      <td>0.0</td>\n",
       "      <td>0.0</td>\n",
       "      <td>0.0</td>\n",
       "      <td>0.0</td>\n",
       "      <td>0.0</td>\n",
       "      <td>0.0</td>\n",
       "      <td>0.0</td>\n",
       "      <td>0.0</td>\n",
       "      <td>0.0</td>\n",
       "    </tr>\n",
       "    <tr>\n",
       "      <th>Excerpt 20625</th>\n",
       "      <td>0.0</td>\n",
       "      <td>0.0</td>\n",
       "      <td>0.0</td>\n",
       "      <td>0.0</td>\n",
       "      <td>0.0</td>\n",
       "      <td>0.0</td>\n",
       "      <td>0.0</td>\n",
       "      <td>0.0</td>\n",
       "      <td>0.0</td>\n",
       "      <td>0.0</td>\n",
       "      <td>...</td>\n",
       "      <td>0.0</td>\n",
       "      <td>0.0</td>\n",
       "      <td>0.0</td>\n",
       "      <td>0.0</td>\n",
       "      <td>0.0</td>\n",
       "      <td>0.0</td>\n",
       "      <td>0.0</td>\n",
       "      <td>0.0</td>\n",
       "      <td>0.0</td>\n",
       "      <td>0.0</td>\n",
       "    </tr>\n",
       "  </tbody>\n",
       "</table>\n",
       "<p>20626 rows × 24617 columns</p>\n",
       "</div>"
      ],
      "text/plain": [
       "                ''  '100  '1999  '2004  '2009  '2012  '2013  '2014  '2015  \\\n",
       "Excerpt 0      0.0   0.0    0.0    0.0    0.0    0.0    0.0    0.0    0.0   \n",
       "Excerpt 1      0.0   0.0    0.0    0.0    0.0    0.0    0.0    0.0    0.0   \n",
       "Excerpt 2      0.0   0.0    0.0    0.0    0.0    0.0    0.0    0.0    0.0   \n",
       "Excerpt 3      0.0   0.0    0.0    0.0    0.0    0.0    0.0    0.0    0.0   \n",
       "Excerpt 4      0.0   0.0    0.0    0.0    0.0    0.0    0.0    0.0    0.0   \n",
       "...            ...   ...    ...    ...    ...    ...    ...    ...    ...   \n",
       "Excerpt 20621  0.0   0.0    0.0    0.0    0.0    0.0    0.0    0.0    0.0   \n",
       "Excerpt 20622  0.0   0.0    0.0    0.0    0.0    0.0    0.0    0.0    0.0   \n",
       "Excerpt 20623  0.0   0.0    0.0    0.0    0.0    0.0    0.0    0.0    0.0   \n",
       "Excerpt 20624  0.0   0.0    0.0    0.0    0.0    0.0    0.0    0.0    0.0   \n",
       "Excerpt 20625  0.0   0.0    0.0    0.0    0.0    0.0    0.0    0.0    0.0   \n",
       "\n",
       "               '2016  ...  €6.74  €633.0  €7.2  €7.3  €7.5  €738.5  €8.35  \\\n",
       "Excerpt 0        0.0  ...    0.0     0.0   0.0   0.0   0.0     0.0    0.0   \n",
       "Excerpt 1        0.0  ...    0.0     0.0   0.0   0.0   0.0     0.0    0.0   \n",
       "Excerpt 2        0.0  ...    0.0     0.0   0.0   0.0   0.0     0.0    0.0   \n",
       "Excerpt 3        0.0  ...    0.0     0.0   0.0   0.0   0.0     0.0    0.0   \n",
       "Excerpt 4        0.0  ...    0.0     0.0   0.0   0.0   0.0     0.0    0.0   \n",
       "...              ...  ...    ...     ...   ...   ...   ...     ...    ...   \n",
       "Excerpt 20621    0.0  ...    0.0     0.0   0.0   0.0   0.0     0.0    0.0   \n",
       "Excerpt 20622    0.0  ...    0.0     0.0   0.0   0.0   0.0     0.0    0.0   \n",
       "Excerpt 20623    0.0  ...    0.0     0.0   0.0   0.0   0.0     0.0    0.0   \n",
       "Excerpt 20624    0.0  ...    0.0     0.0   0.0   0.0   0.0     0.0    0.0   \n",
       "Excerpt 20625    0.0  ...    0.0     0.0   0.0   0.0   0.0     0.0    0.0   \n",
       "\n",
       "               €9.3  €9.7  €nil  \n",
       "Excerpt 0       0.0   0.0   0.0  \n",
       "Excerpt 1       0.0   0.0   0.0  \n",
       "Excerpt 2       0.0   0.0   0.0  \n",
       "Excerpt 3       0.0   0.0   0.0  \n",
       "Excerpt 4       0.0   0.0   0.0  \n",
       "...             ...   ...   ...  \n",
       "Excerpt 20621   0.0   0.0   0.0  \n",
       "Excerpt 20622   0.0   0.0   0.0  \n",
       "Excerpt 20623   0.0   0.0   0.0  \n",
       "Excerpt 20624   0.0   0.0   0.0  \n",
       "Excerpt 20625   0.0   0.0   0.0  \n",
       "\n",
       "[20626 rows x 24617 columns]"
      ]
     },
     "execution_count": 18,
     "metadata": {},
     "output_type": "execute_result"
    }
   ],
   "source": [
    "count_vect = CountVectorizer(tokenizer= my_tokenizer)\n",
    "X_count = count_vect.fit_transform(text_train)\n",
    "X_count = normalize(X_count)\n",
    "count_features = count_vect.get_feature_names()\n",
    "wm2df(X_count, count_features)"
   ]
  },
  {
   "cell_type": "markdown",
   "metadata": {},
   "source": [
    "The cell below sets the y variable."
   ]
  },
  {
   "cell_type": "code",
   "execution_count": 33,
   "metadata": {},
   "outputs": [],
   "source": [
    "#Target Variable\n",
    "y = np.array(json['relevance_islabor'])"
   ]
  },
  {
   "cell_type": "markdown",
   "metadata": {},
   "source": [
    "### Logistic Regression"
   ]
  },
  {
   "cell_type": "code",
   "execution_count": 20,
   "metadata": {},
   "outputs": [],
   "source": [
    "X_train, X_test, y_train, y_test = train_test_split(X_count, y, random_state=42)"
   ]
  },
  {
   "cell_type": "code",
   "execution_count": 44,
   "metadata": {},
   "outputs": [
    {
     "name": "stdout",
     "output_type": "stream",
     "text": [
      "Mean cross_validation accuracy:  0.927662\n",
      "Best cross-validation score: 0.941496\n",
      "Best parameters:  {'C': 10}\n",
      "Test score: 0.944154\n"
     ]
    }
   ],
   "source": [
    "scores = cross_val_score(LogisticRegression(class_weight = 'balanced', max_iter = 1000), X_train, y_train, cv=5)\n",
    "print(\"Mean cross_validation accuracy: {: 2f}\".format(np.mean(scores)))\n",
    "\n",
    "\n",
    "#GridSearchCV\n",
    "param_grid = {'C': [0.001, 0.01, 0.1, 1, 10]}\n",
    "grid = GridSearchCV(LogisticRegression(class_weight = 'balanced', max_iter = 1000), param_grid, cv=5)\n",
    "grid.fit(X_train, y_train)\n",
    "print(\"Best cross-validation score: {:2f}\".format(grid.best_score_))\n",
    "print(\"Best parameters: \", grid.best_params_)\n",
    "\n",
    "\n",
    "print(\"Test score: {:2f}\".format(grid.score(X_test, y_test)))"
   ]
  },
  {
   "cell_type": "markdown",
   "metadata": {},
   "source": [
    "### Dataframe of Actual vs Predicted Values"
   ]
  },
  {
   "cell_type": "code",
   "execution_count": 41,
   "metadata": {},
   "outputs": [
    {
     "name": "stdout",
     "output_type": "stream",
     "text": [
      "0    4647\n",
      "1     510\n",
      "Name: Actual, dtype: int64\n",
      "0    4387\n",
      "1     770\n",
      "Name: Predicted, dtype: int64\n"
     ]
    }
   ],
   "source": [
    "logreg = LogisticRegression(class_weight = 'balanced', max_iter = 1000).fit(X_train, y_train)\n",
    "\n",
    "y_pred = logreg.predict(X_test)\n",
    "\n",
    "df_logreg = pd.DataFrame({'Actual': y_test, 'Predicted': y_pred})\n",
    "print(df_logreg['Actual'].value_counts())\n",
    "print(df_logreg['Predicted'].value_counts())"
   ]
  },
  {
   "cell_type": "code",
   "execution_count": 28,
   "metadata": {},
   "outputs": [],
   "source": [
    "#predict probabilities\n",
    "y_proba = logreg.predict_proba(X_test)\n",
    "# keep probabilities for the positive outcome only\n",
    "y_proba = y_proba[:, 1]"
   ]
  },
  {
   "cell_type": "markdown",
   "metadata": {},
   "source": [
    "### Evaluation Metrics"
   ]
  },
  {
   "cell_type": "code",
   "execution_count": 42,
   "metadata": {},
   "outputs": [
    {
     "name": "stdout",
     "output_type": "stream",
     "text": [
      "Confusion Matrix\n",
      "[[4343  304]\n",
      " [  44  466]]\n",
      "\n",
      "Classification Report\n",
      "              precision    recall  f1-score   support\n",
      "\n",
      "           0       0.99      0.93      0.96      4647\n",
      "           1       0.61      0.91      0.73       510\n",
      "\n",
      "    accuracy                           0.93      5157\n",
      "   macro avg       0.80      0.92      0.84      5157\n",
      "weighted avg       0.95      0.93      0.94      5157\n",
      "\n"
     ]
    }
   ],
   "source": [
    "#Confusion Matrix\n",
    "from sklearn.metrics import confusion_matrix\n",
    "\n",
    "confusion_matrix = confusion_matrix(y_test, y_pred)\n",
    "print(\"Confusion Matrix\")\n",
    "print(confusion_matrix)\n",
    "print()\n",
    "\n",
    "#Classification Report\n",
    "from sklearn.metrics import classification_report\n",
    "print('Classification Report')\n",
    "print(classification_report(y_test, y_pred))"
   ]
  },
  {
   "cell_type": "markdown",
   "metadata": {},
   "source": [
    "### Precision Recall curve"
   ]
  },
  {
   "cell_type": "code",
   "execution_count": 29,
   "metadata": {},
   "outputs": [
    {
     "name": "stdout",
     "output_type": "stream",
     "text": [
      "Average Precision Recall Score: 0.8288164271542808\n"
     ]
    }
   ],
   "source": [
    "from sklearn.metrics import average_precision_score\n",
    "average_precision = average_precision_score(y_test, logreg.decision_function(X_test))\n",
    "print(\"Average Precision Recall Score:\", average_precision)\n",
    "\n",
    "from sklearn.metrics import precision_recall_curve, auc\n",
    "precision, recall, thresholds = precision_recall_curve(y_test, logreg.predict_proba(X_test)[:,1])\n",
    "auc_score = auc(recall, precision)"
   ]
  },
  {
   "cell_type": "code",
   "execution_count": 34,
   "metadata": {},
   "outputs": [
    {
     "name": "stdout",
     "output_type": "stream",
     "text": [
      "AUC: 0.829\n"
     ]
    },
    {
     "data": {
      "image/png": "[encoded data removed]",
      "text/plain": [
       "<Figure size 720x720 with 1 Axes>"
      ]
     },
     "metadata": {
      "needs_background": "light"
     },
     "output_type": "display_data"
    }
   ],
   "source": [
    "print('AUC: %.3f' % auc_score)\n",
    "negative = len(y_test[y_test == 1])/ len(y_test)\n",
    "plt.figure(figsize=(10,10))\n",
    "plt.plot([0,1], [negative, negative], linestyle='--')\n",
    "plt.plot(recall, precision, marker='.')\n",
    "plt.scatter(recall[ix], precision[ix], marker='o', color='black', label='Best')\n",
    "plt.title('Precision - Recall Curve')\n",
    "plt.xlabel('Recall')\n",
    "plt.ylabel('Precision')\n",
    "plt.legend()\n",
    "plt.grid()\n",
    "plt.show()"
   ]
  },
  {
   "cell_type": "markdown",
   "metadata": {},
   "source": [
    "### Lowering Threshold"
   ]
  },
  {
   "cell_type": "code",
   "execution_count": 32,
   "metadata": {},
   "outputs": [
    {
     "name": "stdout",
     "output_type": "stream",
     "text": [
      "Best Threshold=0.289554, F-Score=0.765\n"
     ]
    }
   ],
   "source": [
    "from numpy import argmax\n",
    "# convert to f score\n",
    "fscore = (2 * precision * recall) / (precision + recall)\n",
    "# locate the index of the largest f score\n",
    "ix = argmax(fscore)\n",
    "print('Best Threshold=%f, F-Score=%.3f' % (thresholds[ix], fscore[ix]))"
   ]
  },
  {
   "cell_type": "markdown",
   "metadata": {},
   "source": [
    "Raising our classification threshold will cause the number of true positives to decrease or stay the same and will cause the number of false negatives to increase or stay the same. Thus, recall will either stay constant or decrease.\n",
    "- Why use class_weight= \"balanced\"\n",
    "- with class_weight=\"balanced\" you capture more true events (higher TRUE recall) but also you are more likely to get false alerts (lower TRUE precision) as a result, the total % TRUE might be higher than actual because of all the false positives"
   ]
  },
  {
   "cell_type": "markdown",
   "metadata": {},
   "source": [
    "### Visualize Coefficients"
   ]
  },
  {
   "cell_type": "code",
   "execution_count": 26,
   "metadata": {},
   "outputs": [],
   "source": [
    "def visualize_coefficients(coefficients, feature_names, n_top_features=25):\n",
    "    \"\"\"Visualize coefficients of a linear model.\n",
    "    Parameters\n",
    "    ----------\n",
    "    coefficients : nd-array, shape (n_features,)\n",
    "        Model coefficients.\n",
    "    feature_names : list or nd-array of strings, shape (n_features,)\n",
    "        Feature names for labeling the coefficients.\n",
    "    n_top_features : int, default=25\n",
    "        How many features to show. The function will show the largest (most\n",
    "        positive) and smallest (most negative)  n_top_features coefficients,\n",
    "        for a total of 2 * n_top_features coefficients.\n",
    "    \"\"\"\n",
    "    coefficients = coefficients.squeeze()\n",
    "    if coefficients.ndim > 1:\n",
    "        # this is not a row or column vector\n",
    "        raise ValueError(\"coeffients must be 1d array or column vector, got\"\n",
    "                         \" shape {}\".format(coefficients.shape))\n",
    "    coefficients = coefficients.ravel()\n",
    "\n",
    "    if len(coefficients) != len(feature_names):\n",
    "        raise ValueError(\"Number of coefficients {} doesn't match number of\"\n",
    "                         \"feature names {}.\".format(len(coefficients),\n",
    "                                                    len(feature_names)))\n",
    "    # get coefficients with large absolute values\n",
    "    coef = coefficients.ravel()\n",
    "    positive_coefficients = np.argsort(coef)[-n_top_features:]\n",
    "    negative_coefficients = np.argsort(coef)[:n_top_features]\n",
    "    interesting_coefficients = np.hstack([negative_coefficients,\n",
    "                                          positive_coefficients])\n",
    "    # plot them\n",
    "    plt.figure(figsize=(15, 10))\n",
    "    colors = ['#ff2020' if c < 0 else '#0000aa'\n",
    "              for c in coef[interesting_coefficients]]\n",
    "    plt.bar(np.arange(2 * n_top_features), coef[interesting_coefficients],\n",
    "            color=colors)\n",
    "    feature_names = np.array(feature_names)\n",
    "    plt.subplots_adjust(bottom=0.3)\n",
    "    plt.xticks(np.arange(1, 1 + 2 * n_top_features),\n",
    "               feature_names[interesting_coefficients], rotation=60,\n",
    "               ha=\"right\")\n",
    "    plt.ylabel(\"Coefficient magnitude\")\n",
    "    plt.xlabel(\"Feature\")\n"
   ]
  },
  {
   "cell_type": "code",
   "execution_count": 27,
   "metadata": {},
   "outputs": [
    {
     "data": {
      "image/png": "[encoded data removed]",
      "text/plain": [
       "<Figure size 1080x720 with 1 Axes>"
      ]
     },
     "metadata": {
      "needs_background": "light"
     },
     "output_type": "display_data"
    }
   ],
   "source": [
    "coefs = LogisticRegression(C=0.01).fit(X_train, y_train).coef_\n",
    "\n",
    "visualize_coefficients(coefs, count_features, n_top_features=20)"
   ]
  },
  {
   "cell_type": "markdown",
   "metadata": {},
   "source": [
    "### b. Tf-idf Vectorizer"
   ]
  },
  {
   "cell_type": "code",
   "execution_count": 43,
   "metadata": {},
   "outputs": [
    {
     "data": {
      "text/html": [
       "<div>\n",
       "<style scoped>\n",
       "    .dataframe tbody tr th:only-of-type {\n",
       "        vertical-align: middle;\n",
       "    }\n",
       "\n",
       "    .dataframe tbody tr th {\n",
       "        vertical-align: top;\n",
       "    }\n",
       "\n",
       "    .dataframe thead th {\n",
       "        text-align: right;\n",
       "    }\n",
       "</style>\n",
       "<table border=\"1\" class=\"dataframe\">\n",
       "  <thead>\n",
       "    <tr style=\"text-align: right;\">\n",
       "      <th></th>\n",
       "      <th>''</th>\n",
       "      <th>'100</th>\n",
       "      <th>'1999</th>\n",
       "      <th>'2004</th>\n",
       "      <th>'2009</th>\n",
       "      <th>'2012</th>\n",
       "      <th>'2013</th>\n",
       "      <th>'2014</th>\n",
       "      <th>'2015</th>\n",
       "      <th>'2016</th>\n",
       "      <th>...</th>\n",
       "      <th>€6.74</th>\n",
       "      <th>€633.0</th>\n",
       "      <th>€7.2</th>\n",
       "      <th>€7.3</th>\n",
       "      <th>€7.5</th>\n",
       "      <th>€738.5</th>\n",
       "      <th>€8.35</th>\n",
       "      <th>€9.3</th>\n",
       "      <th>€9.7</th>\n",
       "      <th>€nil</th>\n",
       "    </tr>\n",
       "  </thead>\n",
       "  <tbody>\n",
       "    <tr>\n",
       "      <th>Excerpt 0</th>\n",
       "      <td>0.0</td>\n",
       "      <td>0.0</td>\n",
       "      <td>0.0</td>\n",
       "      <td>0.0</td>\n",
       "      <td>0.0</td>\n",
       "      <td>0.0</td>\n",
       "      <td>0.0</td>\n",
       "      <td>0.0</td>\n",
       "      <td>0.0</td>\n",
       "      <td>0.0</td>\n",
       "      <td>...</td>\n",
       "      <td>0.0</td>\n",
       "      <td>0.0</td>\n",
       "      <td>0.0</td>\n",
       "      <td>0.0</td>\n",
       "      <td>0.0</td>\n",
       "      <td>0.0</td>\n",
       "      <td>0.0</td>\n",
       "      <td>0.0</td>\n",
       "      <td>0.0</td>\n",
       "      <td>0.0</td>\n",
       "    </tr>\n",
       "    <tr>\n",
       "      <th>Excerpt 1</th>\n",
       "      <td>0.0</td>\n",
       "      <td>0.0</td>\n",
       "      <td>0.0</td>\n",
       "      <td>0.0</td>\n",
       "      <td>0.0</td>\n",
       "      <td>0.0</td>\n",
       "      <td>0.0</td>\n",
       "      <td>0.0</td>\n",
       "      <td>0.0</td>\n",
       "      <td>0.0</td>\n",
       "      <td>...</td>\n",
       "      <td>0.0</td>\n",
       "      <td>0.0</td>\n",
       "      <td>0.0</td>\n",
       "      <td>0.0</td>\n",
       "      <td>0.0</td>\n",
       "      <td>0.0</td>\n",
       "      <td>0.0</td>\n",
       "      <td>0.0</td>\n",
       "      <td>0.0</td>\n",
       "      <td>0.0</td>\n",
       "    </tr>\n",
       "    <tr>\n",
       "      <th>Excerpt 2</th>\n",
       "      <td>0.0</td>\n",
       "      <td>0.0</td>\n",
       "      <td>0.0</td>\n",
       "      <td>0.0</td>\n",
       "      <td>0.0</td>\n",
       "      <td>0.0</td>\n",
       "      <td>0.0</td>\n",
       "      <td>0.0</td>\n",
       "      <td>0.0</td>\n",
       "      <td>0.0</td>\n",
       "      <td>...</td>\n",
       "      <td>0.0</td>\n",
       "      <td>0.0</td>\n",
       "      <td>0.0</td>\n",
       "      <td>0.0</td>\n",
       "      <td>0.0</td>\n",
       "      <td>0.0</td>\n",
       "      <td>0.0</td>\n",
       "      <td>0.0</td>\n",
       "      <td>0.0</td>\n",
       "      <td>0.0</td>\n",
       "    </tr>\n",
       "    <tr>\n",
       "      <th>Excerpt 3</th>\n",
       "      <td>0.0</td>\n",
       "      <td>0.0</td>\n",
       "      <td>0.0</td>\n",
       "      <td>0.0</td>\n",
       "      <td>0.0</td>\n",
       "      <td>0.0</td>\n",
       "      <td>0.0</td>\n",
       "      <td>0.0</td>\n",
       "      <td>0.0</td>\n",
       "      <td>0.0</td>\n",
       "      <td>...</td>\n",
       "      <td>0.0</td>\n",
       "      <td>0.0</td>\n",
       "      <td>0.0</td>\n",
       "      <td>0.0</td>\n",
       "      <td>0.0</td>\n",
       "      <td>0.0</td>\n",
       "      <td>0.0</td>\n",
       "      <td>0.0</td>\n",
       "      <td>0.0</td>\n",
       "      <td>0.0</td>\n",
       "    </tr>\n",
       "    <tr>\n",
       "      <th>Excerpt 4</th>\n",
       "      <td>0.0</td>\n",
       "      <td>0.0</td>\n",
       "      <td>0.0</td>\n",
       "      <td>0.0</td>\n",
       "      <td>0.0</td>\n",
       "      <td>0.0</td>\n",
       "      <td>0.0</td>\n",
       "      <td>0.0</td>\n",
       "      <td>0.0</td>\n",
       "      <td>0.0</td>\n",
       "      <td>...</td>\n",
       "      <td>0.0</td>\n",
       "      <td>0.0</td>\n",
       "      <td>0.0</td>\n",
       "      <td>0.0</td>\n",
       "      <td>0.0</td>\n",
       "      <td>0.0</td>\n",
       "      <td>0.0</td>\n",
       "      <td>0.0</td>\n",
       "      <td>0.0</td>\n",
       "      <td>0.0</td>\n",
       "    </tr>\n",
       "    <tr>\n",
       "      <th>...</th>\n",
       "      <td>...</td>\n",
       "      <td>...</td>\n",
       "      <td>...</td>\n",
       "      <td>...</td>\n",
       "      <td>...</td>\n",
       "      <td>...</td>\n",
       "      <td>...</td>\n",
       "      <td>...</td>\n",
       "      <td>...</td>\n",
       "      <td>...</td>\n",
       "      <td>...</td>\n",
       "      <td>...</td>\n",
       "      <td>...</td>\n",
       "      <td>...</td>\n",
       "      <td>...</td>\n",
       "      <td>...</td>\n",
       "      <td>...</td>\n",
       "      <td>...</td>\n",
       "      <td>...</td>\n",
       "      <td>...</td>\n",
       "      <td>...</td>\n",
       "    </tr>\n",
       "    <tr>\n",
       "      <th>Excerpt 20621</th>\n",
       "      <td>0.0</td>\n",
       "      <td>0.0</td>\n",
       "      <td>0.0</td>\n",
       "      <td>0.0</td>\n",
       "      <td>0.0</td>\n",
       "      <td>0.0</td>\n",
       "      <td>0.0</td>\n",
       "      <td>0.0</td>\n",
       "      <td>0.0</td>\n",
       "      <td>0.0</td>\n",
       "      <td>...</td>\n",
       "      <td>0.0</td>\n",
       "      <td>0.0</td>\n",
       "      <td>0.0</td>\n",
       "      <td>0.0</td>\n",
       "      <td>0.0</td>\n",
       "      <td>0.0</td>\n",
       "      <td>0.0</td>\n",
       "      <td>0.0</td>\n",
       "      <td>0.0</td>\n",
       "      <td>0.0</td>\n",
       "    </tr>\n",
       "    <tr>\n",
       "      <th>Excerpt 20622</th>\n",
       "      <td>0.0</td>\n",
       "      <td>0.0</td>\n",
       "      <td>0.0</td>\n",
       "      <td>0.0</td>\n",
       "      <td>0.0</td>\n",
       "      <td>0.0</td>\n",
       "      <td>0.0</td>\n",
       "      <td>0.0</td>\n",
       "      <td>0.0</td>\n",
       "      <td>0.0</td>\n",
       "      <td>...</td>\n",
       "      <td>0.0</td>\n",
       "      <td>0.0</td>\n",
       "      <td>0.0</td>\n",
       "      <td>0.0</td>\n",
       "      <td>0.0</td>\n",
       "      <td>0.0</td>\n",
       "      <td>0.0</td>\n",
       "      <td>0.0</td>\n",
       "      <td>0.0</td>\n",
       "      <td>0.0</td>\n",
       "    </tr>\n",
       "    <tr>\n",
       "      <th>Excerpt 20623</th>\n",
       "      <td>0.0</td>\n",
       "      <td>0.0</td>\n",
       "      <td>0.0</td>\n",
       "      <td>0.0</td>\n",
       "      <td>0.0</td>\n",
       "      <td>0.0</td>\n",
       "      <td>0.0</td>\n",
       "      <td>0.0</td>\n",
       "      <td>0.0</td>\n",
       "      <td>0.0</td>\n",
       "      <td>...</td>\n",
       "      <td>0.0</td>\n",
       "      <td>0.0</td>\n",
       "      <td>0.0</td>\n",
       "      <td>0.0</td>\n",
       "      <td>0.0</td>\n",
       "      <td>0.0</td>\n",
       "      <td>0.0</td>\n",
       "      <td>0.0</td>\n",
       "      <td>0.0</td>\n",
       "      <td>0.0</td>\n",
       "    </tr>\n",
       "    <tr>\n",
       "      <th>Excerpt 20624</th>\n",
       "      <td>0.0</td>\n",
       "      <td>0.0</td>\n",
       "      <td>0.0</td>\n",
       "      <td>0.0</td>\n",
       "      <td>0.0</td>\n",
       "      <td>0.0</td>\n",
       "      <td>0.0</td>\n",
       "      <td>0.0</td>\n",
       "      <td>0.0</td>\n",
       "      <td>0.0</td>\n",
       "      <td>...</td>\n",
       "      <td>0.0</td>\n",
       "      <td>0.0</td>\n",
       "      <td>0.0</td>\n",
       "      <td>0.0</td>\n",
       "      <td>0.0</td>\n",
       "      <td>0.0</td>\n",
       "      <td>0.0</td>\n",
       "      <td>0.0</td>\n",
       "      <td>0.0</td>\n",
       "      <td>0.0</td>\n",
       "    </tr>\n",
       "    <tr>\n",
       "      <th>Excerpt 20625</th>\n",
       "      <td>0.0</td>\n",
       "      <td>0.0</td>\n",
       "      <td>0.0</td>\n",
       "      <td>0.0</td>\n",
       "      <td>0.0</td>\n",
       "      <td>0.0</td>\n",
       "      <td>0.0</td>\n",
       "      <td>0.0</td>\n",
       "      <td>0.0</td>\n",
       "      <td>0.0</td>\n",
       "      <td>...</td>\n",
       "      <td>0.0</td>\n",
       "      <td>0.0</td>\n",
       "      <td>0.0</td>\n",
       "      <td>0.0</td>\n",
       "      <td>0.0</td>\n",
       "      <td>0.0</td>\n",
       "      <td>0.0</td>\n",
       "      <td>0.0</td>\n",
       "      <td>0.0</td>\n",
       "      <td>0.0</td>\n",
       "    </tr>\n",
       "  </tbody>\n",
       "</table>\n",
       "<p>20626 rows × 24617 columns</p>\n",
       "</div>"
      ],
      "text/plain": [
       "                ''  '100  '1999  '2004  '2009  '2012  '2013  '2014  '2015  \\\n",
       "Excerpt 0      0.0   0.0    0.0    0.0    0.0    0.0    0.0    0.0    0.0   \n",
       "Excerpt 1      0.0   0.0    0.0    0.0    0.0    0.0    0.0    0.0    0.0   \n",
       "Excerpt 2      0.0   0.0    0.0    0.0    0.0    0.0    0.0    0.0    0.0   \n",
       "Excerpt 3      0.0   0.0    0.0    0.0    0.0    0.0    0.0    0.0    0.0   \n",
       "Excerpt 4      0.0   0.0    0.0    0.0    0.0    0.0    0.0    0.0    0.0   \n",
       "...            ...   ...    ...    ...    ...    ...    ...    ...    ...   \n",
       "Excerpt 20621  0.0   0.0    0.0    0.0    0.0    0.0    0.0    0.0    0.0   \n",
       "Excerpt 20622  0.0   0.0    0.0    0.0    0.0    0.0    0.0    0.0    0.0   \n",
       "Excerpt 20623  0.0   0.0    0.0    0.0    0.0    0.0    0.0    0.0    0.0   \n",
       "Excerpt 20624  0.0   0.0    0.0    0.0    0.0    0.0    0.0    0.0    0.0   \n",
       "Excerpt 20625  0.0   0.0    0.0    0.0    0.0    0.0    0.0    0.0    0.0   \n",
       "\n",
       "               '2016  ...  €6.74  €633.0  €7.2  €7.3  €7.5  €738.5  €8.35  \\\n",
       "Excerpt 0        0.0  ...    0.0     0.0   0.0   0.0   0.0     0.0    0.0   \n",
       "Excerpt 1        0.0  ...    0.0     0.0   0.0   0.0   0.0     0.0    0.0   \n",
       "Excerpt 2        0.0  ...    0.0     0.0   0.0   0.0   0.0     0.0    0.0   \n",
       "Excerpt 3        0.0  ...    0.0     0.0   0.0   0.0   0.0     0.0    0.0   \n",
       "Excerpt 4        0.0  ...    0.0     0.0   0.0   0.0   0.0     0.0    0.0   \n",
       "...              ...  ...    ...     ...   ...   ...   ...     ...    ...   \n",
       "Excerpt 20621    0.0  ...    0.0     0.0   0.0   0.0   0.0     0.0    0.0   \n",
       "Excerpt 20622    0.0  ...    0.0     0.0   0.0   0.0   0.0     0.0    0.0   \n",
       "Excerpt 20623    0.0  ...    0.0     0.0   0.0   0.0   0.0     0.0    0.0   \n",
       "Excerpt 20624    0.0  ...    0.0     0.0   0.0   0.0   0.0     0.0    0.0   \n",
       "Excerpt 20625    0.0  ...    0.0     0.0   0.0   0.0   0.0     0.0    0.0   \n",
       "\n",
       "               €9.3  €9.7  €nil  \n",
       "Excerpt 0       0.0   0.0   0.0  \n",
       "Excerpt 1       0.0   0.0   0.0  \n",
       "Excerpt 2       0.0   0.0   0.0  \n",
       "Excerpt 3       0.0   0.0   0.0  \n",
       "Excerpt 4       0.0   0.0   0.0  \n",
       "...             ...   ...   ...  \n",
       "Excerpt 20621   0.0   0.0   0.0  \n",
       "Excerpt 20622   0.0   0.0   0.0  \n",
       "Excerpt 20623   0.0   0.0   0.0  \n",
       "Excerpt 20624   0.0   0.0   0.0  \n",
       "Excerpt 20625   0.0   0.0   0.0  \n",
       "\n",
       "[20626 rows x 24617 columns]"
      ]
     },
     "execution_count": 43,
     "metadata": {},
     "output_type": "execute_result"
    }
   ],
   "source": [
    "tfidf_vectorizer = TfidfVectorizer(tokenizer=my_tokenizer)\n",
    "X_tfidf = tfidf_vectorizer.fit_transform(text_train)\n",
    "X_tfidf = normalize(X_tfidf)\n",
    "tfidf_features = tfidf_vectorizer.get_feature_names()\n",
    "wm2df(X_tfidf, tfidf_features)"
   ]
  },
  {
   "cell_type": "markdown",
   "metadata": {},
   "source": [
    "### Logistic Regression"
   ]
  },
  {
   "cell_type": "code",
   "execution_count": 29,
   "metadata": {},
   "outputs": [
    {
     "name": "stdout",
     "output_type": "stream",
     "text": [
      "Mean cross_validation accuracy:  0.944922\n",
      "Best cross-validation score: 0.955588\n",
      "Best parameters:  {'C': 10}\n",
      "Test score: 0.959666\n"
     ]
    }
   ],
   "source": [
    "X_train, X_test, y_train, y_test = train_test_split(X_tfidf, y, random_state=42)\n",
    "scores = cross_val_score(LogisticRegression(class_weight = 'balanced', max_iter = 1000), X_train, y_train, cv=5)\n",
    "print(\"Mean cross_validation accuracy: {: 2f}\".format(np.mean(scores)))\n",
    "\n",
    "\n",
    "#GridSearchCV\n",
    "param_grid = {'C': [0.001, 0.01, 0.1, 1, 10]}\n",
    "grid = GridSearchCV(LogisticRegression(class_weight = 'balanced', max_iter = 1000), param_grid, cv=5)\n",
    "grid.fit(X_train, y_train)\n",
    "print(\"Best cross-validation score: {:2f}\".format(grid.best_score_))\n",
    "print(\"Best parameters: \", grid.best_params_)\n",
    "\n",
    "print(\"Test score: {:2f}\".format(grid.score(X_test, y_test)))"
   ]
  },
  {
   "cell_type": "markdown",
   "metadata": {},
   "source": [
    "### Actual vs Predicted Values"
   ]
  },
  {
   "cell_type": "code",
   "execution_count": 30,
   "metadata": {},
   "outputs": [
    {
     "name": "stdout",
     "output_type": "stream",
     "text": [
      "0    4647\n",
      "1     510\n",
      "Name: Actual, dtype: int64\n",
      "0    4789\n",
      "1     368\n",
      "Name: Predicted, dtype: int64\n"
     ]
    }
   ],
   "source": [
    "logreg_2 = LogisticRegression(class_weight = 'balanced', max_iter = 1000).fit(X_train, y_train)\n",
    "\n",
    "y_pred = logreg_2.predict(X_test)\n",
    "\n",
    "df_logreg_2 = pd.DataFrame({'Actual': y_test, 'Predicted': y_pred})\n",
    "print(df_logreg_2['Actual'].value_counts())\n",
    "print(df_logreg_2['Predicted'].value_counts())"
   ]
  },
  {
   "cell_type": "markdown",
   "metadata": {},
   "source": [
    "### Evaluation Metrics"
   ]
  },
  {
   "cell_type": "code",
   "execution_count": 31,
   "metadata": {},
   "outputs": [
    {
     "name": "stdout",
     "output_type": "stream",
     "text": [
      "Confusion Matrix\n",
      "[[4596   51]\n",
      " [ 193  317]]\n",
      "\n",
      "Classification Report\n",
      "              precision    recall  f1-score   support\n",
      "\n",
      "           0       0.96      0.99      0.97      4647\n",
      "           1       0.86      0.62      0.72       510\n",
      "\n",
      "    accuracy                           0.95      5157\n",
      "   macro avg       0.91      0.81      0.85      5157\n",
      "weighted avg       0.95      0.95      0.95      5157\n",
      "\n"
     ]
    }
   ],
   "source": [
    "#Confusion Matrix\n",
    "from sklearn.metrics import confusion_matrix\n",
    "\n",
    "confusion_matrix = confusion_matrix(y_test, y_pred)\n",
    "print(\"Confusion Matrix\")\n",
    "print(confusion_matrix)\n",
    "print()\n",
    "\n",
    "#Classification Report\n",
    "from sklearn.metrics import classification_report\n",
    "print('Classification Report')\n",
    "print(classification_report(y_test, y_pred))"
   ]
  },
  {
   "cell_type": "markdown",
   "metadata": {},
   "source": [
    "Correctly identifies 62% of relevant and labor disclosures"
   ]
  },
  {
   "cell_type": "markdown",
   "metadata": {},
   "source": [
    "### Precision Recall Curve"
   ]
  },
  {
   "cell_type": "code",
   "execution_count": 32,
   "metadata": {},
   "outputs": [
    {
     "name": "stdout",
     "output_type": "stream",
     "text": [
      "Average Precision Recall Score: 0.8366047848524957\n"
     ]
    }
   ],
   "source": [
    "from sklearn.metrics import average_precision_score\n",
    "average_precision = average_precision_score(y_test, logreg_2.decision_function(X_test))\n",
    "print(\"Average Precision Recall Score:\", average_precision)\n",
    "\n",
    "from sklearn.metrics import precision_recall_curve, auc\n",
    "precision, recall, thresholds = precision_recall_curve(y_test, logreg_2.predict_proba(X_test)[:,1])\n",
    "auc_score = auc(recall, precision)"
   ]
  },
  {
   "cell_type": "code",
   "execution_count": 33,
   "metadata": {},
   "outputs": [
    {
     "name": "stdout",
     "output_type": "stream",
     "text": [
      "AUC: 0.836\n"
     ]
    },
    {
     "data": {
      "image/png": "[encoded data removed]",
      "text/plain": [
       "<Figure size 720x720 with 1 Axes>"
      ]
     },
     "metadata": {
      "needs_background": "light"
     },
     "output_type": "display_data"
    }
   ],
   "source": [
    "print('AUC: %.3f' % auc_score)\n",
    "negative = len(y_test[y_test == 1])/ len(y_test)\n",
    "plt.figure(figsize=(10,10))\n",
    "plt.plot([0,1], [negative, negative], linestyle='--')\n",
    "plt.plot(recall, precision, marker='.')\n",
    "plt.title('Precision - Recall Curve')\n",
    "plt.grid()\n",
    "plt.show()"
   ]
  },
  {
   "cell_type": "markdown",
   "metadata": {},
   "source": [
    "### Visualize coefficients"
   ]
  },
  {
   "cell_type": "code",
   "execution_count": 34,
   "metadata": {},
   "outputs": [
    {
     "data": {
      "image/png": "[encoded data removed]",
      "text/plain": [
       "<Figure size 1080x720 with 1 Axes>"
      ]
     },
     "metadata": {
      "needs_background": "light"
     },
     "output_type": "display_data"
    }
   ],
   "source": [
    "tfidf_coefs = LogisticRegression(C=0.01).fit(X_train, y_train).coef_\n",
    "\n",
    "visualize_coefficients(tfidf_coefs, tfidf_features, n_top_features=20)"
   ]
  },
  {
   "cell_type": "markdown",
   "metadata": {},
   "source": [
    "### c. Tf-idf Vectorizer with bigrams"
   ]
  },
  {
   "cell_type": "code",
   "execution_count": 51,
   "metadata": {},
   "outputs": [
    {
     "data": {
      "text/html": [
       "<div>\n",
       "<style scoped>\n",
       "    .dataframe tbody tr th:only-of-type {\n",
       "        vertical-align: middle;\n",
       "    }\n",
       "\n",
       "    .dataframe tbody tr th {\n",
       "        vertical-align: top;\n",
       "    }\n",
       "\n",
       "    .dataframe thead th {\n",
       "        text-align: right;\n",
       "    }\n",
       "</style>\n",
       "<table border=\"1\" class=\"dataframe\">\n",
       "  <thead>\n",
       "    <tr style=\"text-align: right;\">\n",
       "      <th></th>\n",
       "      <th>'' ''</th>\n",
       "      <th>'' -incid</th>\n",
       "      <th>'' .__these</th>\n",
       "      <th>'' 19</th>\n",
       "      <th>'' 2006</th>\n",
       "      <th>'' 2011</th>\n",
       "      <th>'' 2013</th>\n",
       "      <th>'' 2014-09</th>\n",
       "      <th>'' 2015</th>\n",
       "      <th>'' 2017</th>\n",
       "      <th>...</th>\n",
       "      <th>€633.0 million</th>\n",
       "      <th>€7.2 million</th>\n",
       "      <th>€7.3 million</th>\n",
       "      <th>€7.5 2015</th>\n",
       "      <th>€7.5 million</th>\n",
       "      <th>€738.5 million</th>\n",
       "      <th>€8.35 exercis</th>\n",
       "      <th>€9.3 million</th>\n",
       "      <th>€9.7 million</th>\n",
       "      <th>€nil million</th>\n",
       "    </tr>\n",
       "  </thead>\n",
       "  <tbody>\n",
       "    <tr>\n",
       "      <th>Excerpt 0</th>\n",
       "      <td>0.0</td>\n",
       "      <td>0.0</td>\n",
       "      <td>0.0</td>\n",
       "      <td>0.0</td>\n",
       "      <td>0.0</td>\n",
       "      <td>0.0</td>\n",
       "      <td>0.0</td>\n",
       "      <td>0.0</td>\n",
       "      <td>0.0</td>\n",
       "      <td>0.0</td>\n",
       "      <td>...</td>\n",
       "      <td>0.0</td>\n",
       "      <td>0.0</td>\n",
       "      <td>0.0</td>\n",
       "      <td>0.0</td>\n",
       "      <td>0.0</td>\n",
       "      <td>0.0</td>\n",
       "      <td>0.0</td>\n",
       "      <td>0.0</td>\n",
       "      <td>0.0</td>\n",
       "      <td>0.0</td>\n",
       "    </tr>\n",
       "    <tr>\n",
       "      <th>Excerpt 1</th>\n",
       "      <td>0.0</td>\n",
       "      <td>0.0</td>\n",
       "      <td>0.0</td>\n",
       "      <td>0.0</td>\n",
       "      <td>0.0</td>\n",
       "      <td>0.0</td>\n",
       "      <td>0.0</td>\n",
       "      <td>0.0</td>\n",
       "      <td>0.0</td>\n",
       "      <td>0.0</td>\n",
       "      <td>...</td>\n",
       "      <td>0.0</td>\n",
       "      <td>0.0</td>\n",
       "      <td>0.0</td>\n",
       "      <td>0.0</td>\n",
       "      <td>0.0</td>\n",
       "      <td>0.0</td>\n",
       "      <td>0.0</td>\n",
       "      <td>0.0</td>\n",
       "      <td>0.0</td>\n",
       "      <td>0.0</td>\n",
       "    </tr>\n",
       "    <tr>\n",
       "      <th>Excerpt 2</th>\n",
       "      <td>0.0</td>\n",
       "      <td>0.0</td>\n",
       "      <td>0.0</td>\n",
       "      <td>0.0</td>\n",
       "      <td>0.0</td>\n",
       "      <td>0.0</td>\n",
       "      <td>0.0</td>\n",
       "      <td>0.0</td>\n",
       "      <td>0.0</td>\n",
       "      <td>0.0</td>\n",
       "      <td>...</td>\n",
       "      <td>0.0</td>\n",
       "      <td>0.0</td>\n",
       "      <td>0.0</td>\n",
       "      <td>0.0</td>\n",
       "      <td>0.0</td>\n",
       "      <td>0.0</td>\n",
       "      <td>0.0</td>\n",
       "      <td>0.0</td>\n",
       "      <td>0.0</td>\n",
       "      <td>0.0</td>\n",
       "    </tr>\n",
       "    <tr>\n",
       "      <th>Excerpt 3</th>\n",
       "      <td>0.0</td>\n",
       "      <td>0.0</td>\n",
       "      <td>0.0</td>\n",
       "      <td>0.0</td>\n",
       "      <td>0.0</td>\n",
       "      <td>0.0</td>\n",
       "      <td>0.0</td>\n",
       "      <td>0.0</td>\n",
       "      <td>0.0</td>\n",
       "      <td>0.0</td>\n",
       "      <td>...</td>\n",
       "      <td>0.0</td>\n",
       "      <td>0.0</td>\n",
       "      <td>0.0</td>\n",
       "      <td>0.0</td>\n",
       "      <td>0.0</td>\n",
       "      <td>0.0</td>\n",
       "      <td>0.0</td>\n",
       "      <td>0.0</td>\n",
       "      <td>0.0</td>\n",
       "      <td>0.0</td>\n",
       "    </tr>\n",
       "    <tr>\n",
       "      <th>Excerpt 4</th>\n",
       "      <td>0.0</td>\n",
       "      <td>0.0</td>\n",
       "      <td>0.0</td>\n",
       "      <td>0.0</td>\n",
       "      <td>0.0</td>\n",
       "      <td>0.0</td>\n",
       "      <td>0.0</td>\n",
       "      <td>0.0</td>\n",
       "      <td>0.0</td>\n",
       "      <td>0.0</td>\n",
       "      <td>...</td>\n",
       "      <td>0.0</td>\n",
       "      <td>0.0</td>\n",
       "      <td>0.0</td>\n",
       "      <td>0.0</td>\n",
       "      <td>0.0</td>\n",
       "      <td>0.0</td>\n",
       "      <td>0.0</td>\n",
       "      <td>0.0</td>\n",
       "      <td>0.0</td>\n",
       "      <td>0.0</td>\n",
       "    </tr>\n",
       "    <tr>\n",
       "      <th>...</th>\n",
       "      <td>...</td>\n",
       "      <td>...</td>\n",
       "      <td>...</td>\n",
       "      <td>...</td>\n",
       "      <td>...</td>\n",
       "      <td>...</td>\n",
       "      <td>...</td>\n",
       "      <td>...</td>\n",
       "      <td>...</td>\n",
       "      <td>...</td>\n",
       "      <td>...</td>\n",
       "      <td>...</td>\n",
       "      <td>...</td>\n",
       "      <td>...</td>\n",
       "      <td>...</td>\n",
       "      <td>...</td>\n",
       "      <td>...</td>\n",
       "      <td>...</td>\n",
       "      <td>...</td>\n",
       "      <td>...</td>\n",
       "      <td>...</td>\n",
       "    </tr>\n",
       "    <tr>\n",
       "      <th>Excerpt 20621</th>\n",
       "      <td>0.0</td>\n",
       "      <td>0.0</td>\n",
       "      <td>0.0</td>\n",
       "      <td>0.0</td>\n",
       "      <td>0.0</td>\n",
       "      <td>0.0</td>\n",
       "      <td>0.0</td>\n",
       "      <td>0.0</td>\n",
       "      <td>0.0</td>\n",
       "      <td>0.0</td>\n",
       "      <td>...</td>\n",
       "      <td>0.0</td>\n",
       "      <td>0.0</td>\n",
       "      <td>0.0</td>\n",
       "      <td>0.0</td>\n",
       "      <td>0.0</td>\n",
       "      <td>0.0</td>\n",
       "      <td>0.0</td>\n",
       "      <td>0.0</td>\n",
       "      <td>0.0</td>\n",
       "      <td>0.0</td>\n",
       "    </tr>\n",
       "    <tr>\n",
       "      <th>Excerpt 20622</th>\n",
       "      <td>0.0</td>\n",
       "      <td>0.0</td>\n",
       "      <td>0.0</td>\n",
       "      <td>0.0</td>\n",
       "      <td>0.0</td>\n",
       "      <td>0.0</td>\n",
       "      <td>0.0</td>\n",
       "      <td>0.0</td>\n",
       "      <td>0.0</td>\n",
       "      <td>0.0</td>\n",
       "      <td>...</td>\n",
       "      <td>0.0</td>\n",
       "      <td>0.0</td>\n",
       "      <td>0.0</td>\n",
       "      <td>0.0</td>\n",
       "      <td>0.0</td>\n",
       "      <td>0.0</td>\n",
       "      <td>0.0</td>\n",
       "      <td>0.0</td>\n",
       "      <td>0.0</td>\n",
       "      <td>0.0</td>\n",
       "    </tr>\n",
       "    <tr>\n",
       "      <th>Excerpt 20623</th>\n",
       "      <td>0.0</td>\n",
       "      <td>0.0</td>\n",
       "      <td>0.0</td>\n",
       "      <td>0.0</td>\n",
       "      <td>0.0</td>\n",
       "      <td>0.0</td>\n",
       "      <td>0.0</td>\n",
       "      <td>0.0</td>\n",
       "      <td>0.0</td>\n",
       "      <td>0.0</td>\n",
       "      <td>...</td>\n",
       "      <td>0.0</td>\n",
       "      <td>0.0</td>\n",
       "      <td>0.0</td>\n",
       "      <td>0.0</td>\n",
       "      <td>0.0</td>\n",
       "      <td>0.0</td>\n",
       "      <td>0.0</td>\n",
       "      <td>0.0</td>\n",
       "      <td>0.0</td>\n",
       "      <td>0.0</td>\n",
       "    </tr>\n",
       "    <tr>\n",
       "      <th>Excerpt 20624</th>\n",
       "      <td>0.0</td>\n",
       "      <td>0.0</td>\n",
       "      <td>0.0</td>\n",
       "      <td>0.0</td>\n",
       "      <td>0.0</td>\n",
       "      <td>0.0</td>\n",
       "      <td>0.0</td>\n",
       "      <td>0.0</td>\n",
       "      <td>0.0</td>\n",
       "      <td>0.0</td>\n",
       "      <td>...</td>\n",
       "      <td>0.0</td>\n",
       "      <td>0.0</td>\n",
       "      <td>0.0</td>\n",
       "      <td>0.0</td>\n",
       "      <td>0.0</td>\n",
       "      <td>0.0</td>\n",
       "      <td>0.0</td>\n",
       "      <td>0.0</td>\n",
       "      <td>0.0</td>\n",
       "      <td>0.0</td>\n",
       "    </tr>\n",
       "    <tr>\n",
       "      <th>Excerpt 20625</th>\n",
       "      <td>0.0</td>\n",
       "      <td>0.0</td>\n",
       "      <td>0.0</td>\n",
       "      <td>0.0</td>\n",
       "      <td>0.0</td>\n",
       "      <td>0.0</td>\n",
       "      <td>0.0</td>\n",
       "      <td>0.0</td>\n",
       "      <td>0.0</td>\n",
       "      <td>0.0</td>\n",
       "      <td>...</td>\n",
       "      <td>0.0</td>\n",
       "      <td>0.0</td>\n",
       "      <td>0.0</td>\n",
       "      <td>0.0</td>\n",
       "      <td>0.0</td>\n",
       "      <td>0.0</td>\n",
       "      <td>0.0</td>\n",
       "      <td>0.0</td>\n",
       "      <td>0.0</td>\n",
       "      <td>0.0</td>\n",
       "    </tr>\n",
       "  </tbody>\n",
       "</table>\n",
       "<p>20626 rows × 298264 columns</p>\n",
       "</div>"
      ],
      "text/plain": [
       "               '' ''  '' -incid  '' .__these  '' 19  '' 2006  '' 2011  \\\n",
       "Excerpt 0        0.0        0.0          0.0    0.0      0.0      0.0   \n",
       "Excerpt 1        0.0        0.0          0.0    0.0      0.0      0.0   \n",
       "Excerpt 2        0.0        0.0          0.0    0.0      0.0      0.0   \n",
       "Excerpt 3        0.0        0.0          0.0    0.0      0.0      0.0   \n",
       "Excerpt 4        0.0        0.0          0.0    0.0      0.0      0.0   \n",
       "...              ...        ...          ...    ...      ...      ...   \n",
       "Excerpt 20621    0.0        0.0          0.0    0.0      0.0      0.0   \n",
       "Excerpt 20622    0.0        0.0          0.0    0.0      0.0      0.0   \n",
       "Excerpt 20623    0.0        0.0          0.0    0.0      0.0      0.0   \n",
       "Excerpt 20624    0.0        0.0          0.0    0.0      0.0      0.0   \n",
       "Excerpt 20625    0.0        0.0          0.0    0.0      0.0      0.0   \n",
       "\n",
       "               '' 2013  '' 2014-09  '' 2015  '' 2017  ...  €633.0 million  \\\n",
       "Excerpt 0          0.0         0.0      0.0      0.0  ...             0.0   \n",
       "Excerpt 1          0.0         0.0      0.0      0.0  ...             0.0   \n",
       "Excerpt 2          0.0         0.0      0.0      0.0  ...             0.0   \n",
       "Excerpt 3          0.0         0.0      0.0      0.0  ...             0.0   \n",
       "Excerpt 4          0.0         0.0      0.0      0.0  ...             0.0   \n",
       "...                ...         ...      ...      ...  ...             ...   \n",
       "Excerpt 20621      0.0         0.0      0.0      0.0  ...             0.0   \n",
       "Excerpt 20622      0.0         0.0      0.0      0.0  ...             0.0   \n",
       "Excerpt 20623      0.0         0.0      0.0      0.0  ...             0.0   \n",
       "Excerpt 20624      0.0         0.0      0.0      0.0  ...             0.0   \n",
       "Excerpt 20625      0.0         0.0      0.0      0.0  ...             0.0   \n",
       "\n",
       "               €7.2 million  €7.3 million  €7.5 2015  €7.5 million  \\\n",
       "Excerpt 0               0.0           0.0        0.0           0.0   \n",
       "Excerpt 1               0.0           0.0        0.0           0.0   \n",
       "Excerpt 2               0.0           0.0        0.0           0.0   \n",
       "Excerpt 3               0.0           0.0        0.0           0.0   \n",
       "Excerpt 4               0.0           0.0        0.0           0.0   \n",
       "...                     ...           ...        ...           ...   \n",
       "Excerpt 20621           0.0           0.0        0.0           0.0   \n",
       "Excerpt 20622           0.0           0.0        0.0           0.0   \n",
       "Excerpt 20623           0.0           0.0        0.0           0.0   \n",
       "Excerpt 20624           0.0           0.0        0.0           0.0   \n",
       "Excerpt 20625           0.0           0.0        0.0           0.0   \n",
       "\n",
       "               €738.5 million  €8.35 exercis  €9.3 million  €9.7 million  \\\n",
       "Excerpt 0                 0.0            0.0           0.0           0.0   \n",
       "Excerpt 1                 0.0            0.0           0.0           0.0   \n",
       "Excerpt 2                 0.0            0.0           0.0           0.0   \n",
       "Excerpt 3                 0.0            0.0           0.0           0.0   \n",
       "Excerpt 4                 0.0            0.0           0.0           0.0   \n",
       "...                       ...            ...           ...           ...   \n",
       "Excerpt 20621             0.0            0.0           0.0           0.0   \n",
       "Excerpt 20622             0.0            0.0           0.0           0.0   \n",
       "Excerpt 20623             0.0            0.0           0.0           0.0   \n",
       "Excerpt 20624             0.0            0.0           0.0           0.0   \n",
       "Excerpt 20625             0.0            0.0           0.0           0.0   \n",
       "\n",
       "               €nil million  \n",
       "Excerpt 0               0.0  \n",
       "Excerpt 1               0.0  \n",
       "Excerpt 2               0.0  \n",
       "Excerpt 3               0.0  \n",
       "Excerpt 4               0.0  \n",
       "...                     ...  \n",
       "Excerpt 20621           0.0  \n",
       "Excerpt 20622           0.0  \n",
       "Excerpt 20623           0.0  \n",
       "Excerpt 20624           0.0  \n",
       "Excerpt 20625           0.0  \n",
       "\n",
       "[20626 rows x 298264 columns]"
      ]
     },
     "execution_count": 51,
     "metadata": {},
     "output_type": "execute_result"
    }
   ],
   "source": [
    "tfidf_vectorizer_2 = TfidfVectorizer(ngram_range=(2,2), tokenizer=my_tokenizer)\n",
    "X_tfidf_2 = tfidf_vectorizer_2.fit_transform(text_train)\n",
    "X_tfidf_2 = normalize(X_tfidf_2)\n",
    "tfidf_features_2 = tfidf_vectorizer_2.get_feature_names()\n",
    "wm2df(X_tfidf_2, tfidf_features_2)"
   ]
  },
  {
   "cell_type": "markdown",
   "metadata": {},
   "source": [
    "### Logistic Regression"
   ]
  },
  {
   "cell_type": "code",
   "execution_count": 52,
   "metadata": {},
   "outputs": [
    {
     "name": "stdout",
     "output_type": "stream",
     "text": [
      "Mean cross_validation accuracy:  0.918611\n",
      "Best cross-validation score: 0.941625\n",
      "Best parameters:  {'C': 10}\n",
      "Test score: 0.954431\n"
     ]
    }
   ],
   "source": [
    "X_train, X_test, y_train, y_test = train_test_split(X_tfidf_2, y, random_state=42)\n",
    "scores = cross_val_score(LogisticRegression(max_iter = 1000), X_train, y_train, cv=5)\n",
    "print(\"Mean cross_validation accuracy: {: 2f}\".format(np.mean(scores)))\n",
    "\n",
    "\n",
    "#GridSearchCV\n",
    "param_grid = {'C': [0.001, 0.01, 0.1, 1, 10]}\n",
    "grid = GridSearchCV(LogisticRegression(max_iter = 1000), param_grid, cv=5)\n",
    "grid.fit(X_train, y_train)\n",
    "print(\"Best cross-validation score: {:2f}\".format(grid.best_score_))\n",
    "print(\"Best parameters: \", grid.best_params_)\n",
    "\n",
    "print(\"Test score: {:2f}\".format(grid.score(X_test, y_test)))"
   ]
  },
  {
   "cell_type": "markdown",
   "metadata": {},
   "source": [
    "### Dataframe of Actual vs. Predicted Values"
   ]
  },
  {
   "cell_type": "code",
   "execution_count": 53,
   "metadata": {},
   "outputs": [
    {
     "name": "stdout",
     "output_type": "stream",
     "text": [
      "0    4647\n",
      "1     510\n",
      "Name: Actual, dtype: int64\n",
      "0    4961\n",
      "1     196\n",
      "Name: Predicted, dtype: int64\n"
     ]
    }
   ],
   "source": [
    "logreg_3 = LogisticRegression(max_iter = 1000).fit(X_train, y_train)\n",
    "\n",
    "y_pred = logreg_3.predict(X_test)\n",
    "\n",
    "df_logreg_3 = pd.DataFrame({'Actual': y_test, 'Predicted': y_pred})\n",
    "print(df_logreg_3['Actual'].value_counts())\n",
    "print(df_logreg_3['Predicted'].value_counts())"
   ]
  },
  {
   "cell_type": "markdown",
   "metadata": {},
   "source": [
    "### Evaluation Metrics"
   ]
  },
  {
   "cell_type": "code",
   "execution_count": 54,
   "metadata": {},
   "outputs": [
    {
     "name": "stdout",
     "output_type": "stream",
     "text": [
      "Confusion Matrix\n",
      "[[4633   14]\n",
      " [ 328  182]]\n",
      "\n",
      "Classification Report\n",
      "              precision    recall  f1-score   support\n",
      "\n",
      "           0       0.93      1.00      0.96      4647\n",
      "           1       0.93      0.36      0.52       510\n",
      "\n",
      "    accuracy                           0.93      5157\n",
      "   macro avg       0.93      0.68      0.74      5157\n",
      "weighted avg       0.93      0.93      0.92      5157\n",
      "\n"
     ]
    }
   ],
   "source": [
    "#Confusion Matrix\n",
    "from sklearn.metrics import confusion_matrix\n",
    "\n",
    "confusion_matrix = confusion_matrix(y_test, y_pred)\n",
    "print(\"Confusion Matrix\")\n",
    "print(confusion_matrix)\n",
    "print()\n",
    "\n",
    "#Classification Report\n",
    "from sklearn.metrics import classification_report\n",
    "print('Classification Report')\n",
    "print(classification_report(y_test, y_pred))"
   ]
  },
  {
   "cell_type": "markdown",
   "metadata": {},
   "source": [
    "### Precision Recall Curve"
   ]
  },
  {
   "cell_type": "code",
   "execution_count": 56,
   "metadata": {},
   "outputs": [
    {
     "name": "stdout",
     "output_type": "stream",
     "text": [
      "Average Precision Recall Score: 0.8292063990460184\n"
     ]
    }
   ],
   "source": [
    "from sklearn.metrics import average_precision_score\n",
    "average_precision = average_precision_score(y_test, logreg_3.decision_function(X_test))\n",
    "print(\"Average Precision Recall Score:\", average_precision)\n",
    "\n",
    "from sklearn.metrics import precision_recall_curve, auc\n",
    "precision, recall, thresholds = precision_recall_curve(y_test, logreg_3.predict_proba(X_test)[:,1])\n",
    "auc_score = auc(recall, precision)"
   ]
  },
  {
   "cell_type": "code",
   "execution_count": 57,
   "metadata": {},
   "outputs": [
    {
     "name": "stdout",
     "output_type": "stream",
     "text": [
      "AUC: 0.829\n"
     ]
    },
    {
     "data": {
      "image/png": "[encoded data removed]",
      "text/plain": [
       "<Figure size 720x720 with 1 Axes>"
      ]
     },
     "metadata": {
      "needs_background": "light"
     },
     "output_type": "display_data"
    }
   ],
   "source": [
    "print('AUC: %.3f' % auc_score)\n",
    "negative = len(y_test[y_test == 1])/ len(y_test)\n",
    "plt.figure(figsize=(10,10))\n",
    "plt.plot([0,1], [negative, negative], linestyle='--')\n",
    "plt.plot(recall, precision, marker='.')\n",
    "plt.title('Precision - Recall Curve')\n",
    "plt.grid()\n",
    "plt.show()"
   ]
  },
  {
   "cell_type": "markdown",
   "metadata": {},
   "source": [
    "### Visualize Coefficients"
   ]
  },
  {
   "cell_type": "code",
   "execution_count": 58,
   "metadata": {},
   "outputs": [
    {
     "data": {
      "image/png": "[encoded data removed]",
      "text/plain": [
       "<Figure size 1080x720 with 1 Axes>"
      ]
     },
     "metadata": {
      "needs_background": "light"
     },
     "output_type": "display_data"
    }
   ],
   "source": [
    "tfidf_coefs_2 = LogisticRegression(C=0.01).fit(X_train, y_train).coef_\n",
    "\n",
    "visualize_coefficients(tfidf_coefs_2, tfidf_features_2, n_top_features=20)"
   ]
  },
  {
   "cell_type": "markdown",
   "metadata": {},
   "source": [
    "### d. Word Embeddings Word2vec\n",
    "\n",
    "- Goal: Use the pre-trained word embeddings from the proxy statements to classify"
   ]
  },
  {
   "cell_type": "markdown",
   "metadata": {},
   "source": [
    "#### Make necessary processing for the word embeddings"
   ]
  },
  {
   "cell_type": "code",
   "execution_count": 20,
   "metadata": {},
   "outputs": [
    {
     "name": "stderr",
     "output_type": "stream",
     "text": [
      "100%|██████████| 20626/20626 [00:02<00:00, 9038.32it/s]\n",
      "100%|██████████| 20626/20626 [00:19<00:00, 1053.94it/s]\n"
     ]
    }
   ],
   "source": [
    "def preprocess(paragraph):\n",
    "    text = re.sub(r'\\[[0-9]*\\]',' ',paragraph)\n",
    "    text = re.sub(r'\\s+',' ',text)\n",
    "    text = text.lower()\n",
    "    text = re.sub(r'\\d',' ',text)\n",
    "    text = re.sub(r'\\s+',' ',text)\n",
    "    return text\n",
    "\n",
    "import string\n",
    "\n",
    "def token_words(sentence_list): #sentence_list is a row in the datframe\n",
    "    punctuation=nltk.word_tokenize(string.punctuation)\n",
    "    paragraph = nltk.word_tokenize(sentence_list)\n",
    "    \n",
    "    return [token for token in paragraph if token not in punctuation]\n",
    "\n",
    "\n",
    "json['trial'] = json.progress_apply(lambda x: preprocess(x['excerpt']), axis = 1)\n",
    "json['paragraph'] = json.progress_apply(lambda x: token_words(x['trial']), axis = 1)"
   ]
  },
  {
   "cell_type": "code",
   "execution_count": 21,
   "metadata": {},
   "outputs": [
    {
     "data": {
      "text/html": [
       "<div>\n",
       "<style scoped>\n",
       "    .dataframe tbody tr th:only-of-type {\n",
       "        vertical-align: middle;\n",
       "    }\n",
       "\n",
       "    .dataframe tbody tr th {\n",
       "        vertical-align: top;\n",
       "    }\n",
       "\n",
       "    .dataframe thead th {\n",
       "        text-align: right;\n",
       "    }\n",
       "</style>\n",
       "<table border=\"1\" class=\"dataframe\">\n",
       "  <thead>\n",
       "    <tr style=\"text-align: right;\">\n",
       "      <th></th>\n",
       "      <th>excerpt_id</th>\n",
       "      <th>excerpt</th>\n",
       "      <th>company_ticker</th>\n",
       "      <th>disclosure_topic_id</th>\n",
       "      <th>industry_id_x</th>\n",
       "      <th>source_document</th>\n",
       "      <th>relevance_assessment</th>\n",
       "      <th>quality_assessment</th>\n",
       "      <th>disclosure_topic_name</th>\n",
       "      <th>industry_id_y</th>\n",
       "      <th>sustainability_dimension</th>\n",
       "      <th>disclosure_islabor</th>\n",
       "      <th>relevance_islabor</th>\n",
       "      <th>trial</th>\n",
       "      <th>paragraph</th>\n",
       "    </tr>\n",
       "  </thead>\n",
       "  <tbody>\n",
       "    <tr>\n",
       "      <th>0</th>\n",
       "      <td>2017-AAL-TR-AL-310a-147641</td>\n",
       "      <td>Reclassifications out of AOCI for the years en...</td>\n",
       "      <td>AAL</td>\n",
       "      <td>TR-AL-310a</td>\n",
       "      <td>TR-AL</td>\n",
       "      <td></td>\n",
       "      <td>No Disclosure</td>\n",
       "      <td>No Disclosure</td>\n",
       "      <td>Labor Practices</td>\n",
       "      <td>TR-AL</td>\n",
       "      <td>NaN</td>\n",
       "      <td>True</td>\n",
       "      <td>0</td>\n",
       "      <td>reclassifications out of aoci for the years en...</td>\n",
       "      <td>[reclassifications, out, of, aoci, for, the, y...</td>\n",
       "    </tr>\n",
       "    <tr>\n",
       "      <th>1</th>\n",
       "      <td>2017-AAL-TR-AL-310a-147711</td>\n",
       "      <td>Earnings per share:\\nShares used for computati...</td>\n",
       "      <td>AAL</td>\n",
       "      <td>TR-AL-310a</td>\n",
       "      <td>TR-AL</td>\n",
       "      <td></td>\n",
       "      <td>No Disclosure</td>\n",
       "      <td>No Disclosure</td>\n",
       "      <td>Labor Practices</td>\n",
       "      <td>TR-AL</td>\n",
       "      <td>NaN</td>\n",
       "      <td>True</td>\n",
       "      <td>0</td>\n",
       "      <td>earnings per share: shares used for computatio...</td>\n",
       "      <td>[earnings, per, share, shares, used, for, comp...</td>\n",
       "    </tr>\n",
       "    <tr>\n",
       "      <th>2</th>\n",
       "      <td>2017-AAL-TR-AL-310a-148045</td>\n",
       "      <td>Reclassifications out of AOCI for the years en...</td>\n",
       "      <td>AAL</td>\n",
       "      <td>TR-AL-310a</td>\n",
       "      <td>TR-AL</td>\n",
       "      <td></td>\n",
       "      <td>No Disclosure</td>\n",
       "      <td>No Disclosure</td>\n",
       "      <td>Labor Practices</td>\n",
       "      <td>TR-AL</td>\n",
       "      <td>NaN</td>\n",
       "      <td>True</td>\n",
       "      <td>0</td>\n",
       "      <td>reclassifications out of aoci for the years en...</td>\n",
       "      <td>[reclassifications, out, of, aoci, for, the, y...</td>\n",
       "    </tr>\n",
       "    <tr>\n",
       "      <th>3</th>\n",
       "      <td>2017-AAL-TR-AL-310a-2483765</td>\n",
       "      <td>Approximate number of active full-time equival...</td>\n",
       "      <td>AAL</td>\n",
       "      <td>TR-AL-310a</td>\n",
       "      <td>TR-AL</td>\n",
       "      <td></td>\n",
       "      <td>No Disclosure</td>\n",
       "      <td>No Disclosure</td>\n",
       "      <td>Labor Practices</td>\n",
       "      <td>TR-AL</td>\n",
       "      <td>NaN</td>\n",
       "      <td>True</td>\n",
       "      <td>0</td>\n",
       "      <td>approximate number of active full-time equival...</td>\n",
       "      <td>[approximate, number, of, active, full-time, e...</td>\n",
       "    </tr>\n",
       "    <tr>\n",
       "      <th>4</th>\n",
       "      <td>2017-AAL-TR-AL-310a-2484043</td>\n",
       "      <td>Employee bonus expense included costs related ...</td>\n",
       "      <td>AAL</td>\n",
       "      <td>TR-AL-310a</td>\n",
       "      <td>TR-AL</td>\n",
       "      <td></td>\n",
       "      <td>No Disclosure</td>\n",
       "      <td>No Disclosure</td>\n",
       "      <td>Labor Practices</td>\n",
       "      <td>TR-AL</td>\n",
       "      <td>NaN</td>\n",
       "      <td>True</td>\n",
       "      <td>0</td>\n",
       "      <td>employee bonus expense included costs related ...</td>\n",
       "      <td>[employee, bonus, expense, included, costs, re...</td>\n",
       "    </tr>\n",
       "  </tbody>\n",
       "</table>\n",
       "</div>"
      ],
      "text/plain": [
       "                    excerpt_id  \\\n",
       "0   2017-AAL-TR-AL-310a-147641   \n",
       "1   2017-AAL-TR-AL-310a-147711   \n",
       "2   2017-AAL-TR-AL-310a-148045   \n",
       "3  2017-AAL-TR-AL-310a-2483765   \n",
       "4  2017-AAL-TR-AL-310a-2484043   \n",
       "\n",
       "                                             excerpt company_ticker  \\\n",
       "0  Reclassifications out of AOCI for the years en...            AAL   \n",
       "1  Earnings per share:\\nShares used for computati...            AAL   \n",
       "2  Reclassifications out of AOCI for the years en...            AAL   \n",
       "3  Approximate number of active full-time equival...            AAL   \n",
       "4  Employee bonus expense included costs related ...            AAL   \n",
       "\n",
       "  disclosure_topic_id industry_id_x source_document relevance_assessment  \\\n",
       "0          TR-AL-310a         TR-AL                        No Disclosure   \n",
       "1          TR-AL-310a         TR-AL                        No Disclosure   \n",
       "2          TR-AL-310a         TR-AL                        No Disclosure   \n",
       "3          TR-AL-310a         TR-AL                        No Disclosure   \n",
       "4          TR-AL-310a         TR-AL                        No Disclosure   \n",
       "\n",
       "  quality_assessment disclosure_topic_name industry_id_y  \\\n",
       "0      No Disclosure       Labor Practices         TR-AL   \n",
       "1      No Disclosure       Labor Practices         TR-AL   \n",
       "2      No Disclosure       Labor Practices         TR-AL   \n",
       "3      No Disclosure       Labor Practices         TR-AL   \n",
       "4      No Disclosure       Labor Practices         TR-AL   \n",
       "\n",
       "   sustainability_dimension  disclosure_islabor  relevance_islabor  \\\n",
       "0                       NaN                True                  0   \n",
       "1                       NaN                True                  0   \n",
       "2                       NaN                True                  0   \n",
       "3                       NaN                True                  0   \n",
       "4                       NaN                True                  0   \n",
       "\n",
       "                                               trial  \\\n",
       "0  reclassifications out of aoci for the years en...   \n",
       "1  earnings per share: shares used for computatio...   \n",
       "2  reclassifications out of aoci for the years en...   \n",
       "3  approximate number of active full-time equival...   \n",
       "4  employee bonus expense included costs related ...   \n",
       "\n",
       "                                           paragraph  \n",
       "0  [reclassifications, out, of, aoci, for, the, y...  \n",
       "1  [earnings, per, share, shares, used, for, comp...  \n",
       "2  [reclassifications, out, of, aoci, for, the, y...  \n",
       "3  [approximate, number, of, active, full-time, e...  \n",
       "4  [employee, bonus, expense, included, costs, re...  "
      ]
     },
     "execution_count": 21,
     "metadata": {},
     "output_type": "execute_result"
    }
   ],
   "source": [
    "json.head(5)"
   ]
  },
  {
   "cell_type": "markdown",
   "metadata": {},
   "source": [
    "Load the pre-trained word embeddings model."
   ]
  },
  {
   "cell_type": "code",
   "execution_count": 25,
   "metadata": {},
   "outputs": [],
   "source": [
    "import gensim\n",
    "\n",
    "model = gensim.models.Word2Vec.load(\"word2vec_proxy_docs.model\")"
   ]
  },
  {
   "cell_type": "code",
   "execution_count": 21,
   "metadata": {},
   "outputs": [],
   "source": [
    "def paragraph_vectorizer(paragraph, model):\n",
    "    paragraph_vec =[]\n",
    "    numw = 0\n",
    "    for w in paragraph:\n",
    "        try:\n",
    "            if numw == 0:\n",
    "                paragraph_vec = model.wv[w]\n",
    "            else:\n",
    "                paragraph_vec = np.add(paragraph_vec, model.wv[w])\n",
    "            numw+=1\n",
    "        except:\n",
    "            pass\n",
    "    if len(paragraph_vec) == 150:\n",
    "     \n",
    "        return np.asarray(paragraph_vec) / numw\n",
    "    else:\n",
    "        return None"
   ]
  },
  {
   "cell_type": "code",
   "execution_count": 22,
   "metadata": {},
   "outputs": [
    {
     "name": "stderr",
     "output_type": "stream",
     "text": [
      "20626it [00:08, 2384.78it/s]\n"
     ]
    }
   ],
   "source": [
    "#CREATE THE MATRIX\n",
    "paragraphs = json.paragraph.tolist()\n",
    "X=[]\n",
    "for idx, paragraph in tqdm(enumerate(paragraphs)):\n",
    "    result=paragraph_vectorizer(paragraph, model)\n",
    "    if result is None:\n",
    "        print('No Vector for Paragraph: {a}'.format(a=idx))\n",
    "    else:  \n",
    "        X.append(paragraph_vectorizer(paragraph, model)) "
   ]
  },
  {
   "cell_type": "markdown",
   "metadata": {},
   "source": [
    "### Logistic Regression"
   ]
  },
  {
   "cell_type": "code",
   "execution_count": 34,
   "metadata": {},
   "outputs": [
    {
     "name": "stdout",
     "output_type": "stream",
     "text": [
      "Mean cross_validation accuracy:  0.922555\n",
      "Best cross-validation score: 0.928050\n",
      "Best parameters:  {'C': 10}\n",
      "Test score: 0.934070\n"
     ]
    }
   ],
   "source": [
    "X = (np.stack(X, axis = 0)) #(20626, 150)\n",
    "y = np.array(json['relevance_islabor'])\n",
    "X_train, X_test, y_train, y_test = train_test_split(X, y, random_state=42)\n",
    "scores = cross_val_score(LogisticRegression(max_iter = 1000), X_train, y_train, cv=5)\n",
    "print(\"Mean cross_validation accuracy: {: 2f}\".format(np.mean(scores)))\n",
    "\n",
    "\n",
    "#GridSearchCV\n",
    "param_grid = {'C': [0.001, 0.01, 0.1, 1, 10]}\n",
    "grid = GridSearchCV(LogisticRegression(max_iter = 1000), param_grid, cv=5)\n",
    "grid.fit(X_train, y_train)\n",
    "print(\"Best cross-validation score: {:2f}\".format(grid.best_score_))\n",
    "print(\"Best parameters: \", grid.best_params_)\n",
    "\n",
    "print(\"Test score: {:2f}\".format(grid.score(X_test, y_test)))"
   ]
  },
  {
   "cell_type": "markdown",
   "metadata": {},
   "source": [
    "### Actual vs. Predicted Value"
   ]
  },
  {
   "cell_type": "code",
   "execution_count": 35,
   "metadata": {},
   "outputs": [
    {
     "name": "stdout",
     "output_type": "stream",
     "text": [
      "0    4647\n",
      "1     510\n",
      "Name: Actual, dtype: int64\n",
      "0    4852\n",
      "1     305\n",
      "Name: Predicted, dtype: int64\n"
     ]
    }
   ],
   "source": [
    "logreg_4 = LogisticRegression(max_iter = 1000).fit(X_train, y_train)\n",
    "\n",
    "y_pred = logreg_4.predict(X_test)\n",
    "\n",
    "df_logreg_4 = pd.DataFrame({'Actual': y_test, 'Predicted': y_pred})\n",
    "print(df_logreg_4['Actual'].value_counts())\n",
    "print(df_logreg_4['Predicted'].value_counts())"
   ]
  },
  {
   "cell_type": "markdown",
   "metadata": {},
   "source": [
    "### Evaluation Metrics"
   ]
  },
  {
   "cell_type": "code",
   "execution_count": 36,
   "metadata": {},
   "outputs": [
    {
     "name": "stdout",
     "output_type": "stream",
     "text": [
      "Confusion Matrix\n",
      "[[4568   79]\n",
      " [ 284  226]]\n",
      "\n",
      "Classification Report\n",
      "              precision    recall  f1-score   support\n",
      "\n",
      "           0       0.94      0.98      0.96      4647\n",
      "           1       0.74      0.44      0.55       510\n",
      "\n",
      "    accuracy                           0.93      5157\n",
      "   macro avg       0.84      0.71      0.76      5157\n",
      "weighted avg       0.92      0.93      0.92      5157\n",
      "\n"
     ]
    }
   ],
   "source": [
    "#Confusion Matrix\n",
    "from sklearn.metrics import confusion_matrix\n",
    "\n",
    "confusion_matrix = confusion_matrix(y_test, y_pred)\n",
    "print(\"Confusion Matrix\")\n",
    "print(confusion_matrix)\n",
    "print()\n",
    "\n",
    "#Classification Report\n",
    "from sklearn.metrics import classification_report\n",
    "print('Classification Report')\n",
    "print(classification_report(y_test, y_pred))"
   ]
  },
  {
   "cell_type": "markdown",
   "metadata": {},
   "source": [
    "### Precision-Recall Curve"
   ]
  },
  {
   "cell_type": "code",
   "execution_count": 38,
   "metadata": {},
   "outputs": [
    {
     "name": "stdout",
     "output_type": "stream",
     "text": [
      "Average Precision Recall Score: 0.6550665690236841\n"
     ]
    }
   ],
   "source": [
    "from sklearn.metrics import average_precision_score\n",
    "average_precision = average_precision_score(y_test, logreg_4.decision_function(X_test))\n",
    "print(\"Average Precision Recall Score:\", average_precision)\n",
    "\n",
    "from sklearn.metrics import precision_recall_curve, auc\n",
    "precision, recall, thresholds = precision_recall_curve(y_test, logreg_4.predict_proba(X_test)[:,1])\n",
    "auc_score = auc(recall, precision)"
   ]
  },
  {
   "cell_type": "code",
   "execution_count": 39,
   "metadata": {},
   "outputs": [
    {
     "name": "stdout",
     "output_type": "stream",
     "text": [
      "AUC: 0.653\n"
     ]
    },
    {
     "data": {
      "image/png": "[encoded data removed]",
      "text/plain": [
       "<Figure size 720x720 with 1 Axes>"
      ]
     },
     "metadata": {
      "needs_background": "light"
     },
     "output_type": "display_data"
    }
   ],
   "source": [
    "print('AUC: %.3f' % auc_score)\n",
    "negative = len(y_test[y_test == 1])/ len(y_test)\n",
    "plt.figure(figsize=(10,10))\n",
    "plt.plot([0,1], [negative, negative], linestyle='--')\n",
    "plt.plot(recall, precision, marker='.')\n",
    "plt.title('Precision - Recall Curve')\n",
    "plt.grid()\n",
    "plt.show()"
   ]
  },
  {
   "cell_type": "markdown",
   "metadata": {},
   "source": [
    "### e. 10-K Word Embeddings: Pre-Trained\n"
   ]
  },
  {
   "cell_type": "markdown",
   "metadata": {},
   "source": [
    "The pre-trained word embeddings on 10-K's were downloaded: ```10k_word_embeddings.tar``` and ```vocab_to_int.tar```."
   ]
  },
  {
   "cell_type": "code",
   "execution_count": 17,
   "metadata": {},
   "outputs": [],
   "source": [
    "import torch"
   ]
  },
  {
   "cell_type": "code",
   "execution_count": 18,
   "metadata": {},
   "outputs": [],
   "source": [
    "embed = torch.load('10k_word_embeddings.tar') #the vectors\n",
    "vocab_to_int = torch.load('vocab_to_int.tar') #the words"
   ]
  },
  {
   "cell_type": "code",
   "execution_count": 19,
   "metadata": {},
   "outputs": [],
   "source": [
    "def paragraph_vectorizer(paragraph, model):\n",
    "    paragraph_vec =[]\n",
    "    numw = 0\n",
    "    for w in paragraph:\n",
    "        try:\n",
    "            if numw == 0:\n",
    "                paragraph_vec = model[vocab_to_int[w]]\n",
    "            else:\n",
    "                paragraph_vec = np.add(paragraph_vec, model[vocab_to_int[w]])\n",
    "            numw+=1\n",
    "        except:\n",
    "            pass\n",
    "    if len(paragraph_vec) == 300:\n",
    "     \n",
    "        return np.asarray(paragraph_vec) / numw\n",
    "    else:\n",
    "        return None"
   ]
  },
  {
   "cell_type": "code",
   "execution_count": 22,
   "metadata": {},
   "outputs": [
    {
     "name": "stderr",
     "output_type": "stream",
     "text": [
      "20626it [00:02, 8250.29it/s]\n"
     ]
    }
   ],
   "source": [
    "X=[]\n",
    "paragraphs = json.paragraph.tolist()\n",
    "\n",
    "for idx, paragraph in tqdm(enumerate(paragraphs)):\n",
    "    result=paragraph_vectorizer(paragraph, embed)\n",
    "    if result is None:\n",
    "        print('No Vector for Paragraph: {a}'.format(a=idx))\n",
    "    else:  \n",
    "        X.append(result) \n"
   ]
  },
  {
   "cell_type": "markdown",
   "metadata": {},
   "source": [
    "### Logistic Regression"
   ]
  },
  {
   "cell_type": "code",
   "execution_count": 23,
   "metadata": {},
   "outputs": [
    {
     "name": "stdout",
     "output_type": "stream",
     "text": [
      "Mean cross_validation accuracy:  0.933544\n",
      "Best cross-validation score: 0.940203\n",
      "Best parameters:  {'C': 10}\n",
      "Test score: 0.944541\n"
     ]
    }
   ],
   "source": [
    "X = (np.stack(X, axis = 0)) #(20626, 150)\n",
    "y = np.array(json['relevance_islabor'])\n",
    "X_train, X_test, y_train, y_test = train_test_split(X, y, random_state=42)\n",
    "scores = cross_val_score(LogisticRegression(max_iter = 1000), X_train, y_train, cv=5)\n",
    "print(\"Mean cross_validation accuracy: {: 2f}\".format(np.mean(scores)))\n",
    "\n",
    "\n",
    "#GridSearchCV\n",
    "param_grid = {'C': [0.001, 0.01, 0.1, 1, 10]}\n",
    "grid = GridSearchCV(LogisticRegression(max_iter = 1000), param_grid, cv=5)\n",
    "grid.fit(X_train, y_train)\n",
    "print(\"Best cross-validation score: {:2f}\".format(grid.best_score_))\n",
    "print(\"Best parameters: \", grid.best_params_)\n",
    "\n",
    "print(\"Test score: {:2f}\".format(grid.score(X_test, y_test)))"
   ]
  },
  {
   "cell_type": "markdown",
   "metadata": {},
   "source": [
    "### Actual vs. Predicted Values"
   ]
  },
  {
   "cell_type": "markdown",
   "metadata": {},
   "source": [
    "- Applying the new threshold\n",
    "- The threshold for Logistic Regression is at 0.5 as a default. The cell below is used to lower the threshold. This is done in order to increase recall and decrease precision. In this case, the threshold was lowered to 0.10."
   ]
  },
  {
   "cell_type": "code",
   "execution_count": 24,
   "metadata": {},
   "outputs": [
    {
     "name": "stdout",
     "output_type": "stream",
     "text": [
      "0    4647\n",
      "1     510\n",
      "Name: Actual, dtype: int64\n",
      "0    4793\n",
      "1     364\n",
      "Name: Predicted, dtype: int64\n",
      "0    4114\n",
      "1    1043\n",
      "Name: Lower_Threshold, dtype: int64\n"
     ]
    }
   ],
   "source": [
    "logreg_5 = LogisticRegression(max_iter = 1000).fit(X_train, y_train)\n",
    "\n",
    "y_pred = logreg_5.predict(X_test)\n",
    "\n",
    "df_logreg_5 = pd.DataFrame({'Actual': y_test, 'Predicted': y_pred})\n",
    "print(df_logreg_5['Actual'].value_counts())\n",
    "print(df_logreg_5['Predicted'].value_counts())\n",
    "\n",
    "\n",
    "#New Threshold\n",
    "y_pred_new_threshold = (logreg_5.predict_proba(X_test)[:,1]>=0.10).astype(int)\n",
    "\n",
    "\n",
    "df_logreg_5['Lower_Threshold'] = y_pred_new_threshold\n",
    "print(df_logreg_5['Lower_Threshold'].value_counts())\n"
   ]
  },
  {
   "cell_type": "markdown",
   "metadata": {},
   "source": [
    "### Evaluation Metrics With the Original Threshold\n",
    "- The recall is 57%."
   ]
  },
  {
   "cell_type": "code",
   "execution_count": 29,
   "metadata": {},
   "outputs": [
    {
     "name": "stdout",
     "output_type": "stream",
     "text": [
      "Confusion Matrix\n",
      "[[4573   74]\n",
      " [ 220  290]]\n",
      "\n",
      "Classification Report\n",
      "              precision    recall  f1-score   support\n",
      "\n",
      "           0       0.95      0.98      0.97      4647\n",
      "           1       0.80      0.57      0.66       510\n",
      "\n",
      "    accuracy                           0.94      5157\n",
      "   macro avg       0.88      0.78      0.82      5157\n",
      "weighted avg       0.94      0.94      0.94      5157\n",
      "\n"
     ]
    }
   ],
   "source": [
    "#Confusion Matrix\n",
    "from sklearn.metrics import confusion_matrix\n",
    "\n",
    "confusion_matrix = confusion_matrix(y_test, y_pred)\n",
    "print(\"Confusion Matrix\")\n",
    "print(confusion_matrix)\n",
    "print()\n",
    "\n",
    "#Classification Report\n",
    "from sklearn.metrics import classification_report\n",
    "print('Classification Report')\n",
    "print(classification_report(y_test, y_pred))"
   ]
  },
  {
   "cell_type": "markdown",
   "metadata": {},
   "source": [
    "### Evaluation Metrics With A Lowered Threshold\n",
    "- The recall is 92% when using the lower threshold."
   ]
  },
  {
   "cell_type": "code",
   "execution_count": 63,
   "metadata": {},
   "outputs": [
    {
     "name": "stdout",
     "output_type": "stream",
     "text": [
      "Confusion Matrix\n",
      "[[4071  576]\n",
      " [  43  467]]\n",
      "\n",
      "Classification Report\n",
      "              precision    recall  f1-score   support\n",
      "\n",
      "           0       0.99      0.88      0.93      4647\n",
      "           1       0.45      0.92      0.60       510\n",
      "\n",
      "    accuracy                           0.88      5157\n",
      "   macro avg       0.72      0.90      0.77      5157\n",
      "weighted avg       0.94      0.88      0.90      5157\n",
      "\n"
     ]
    }
   ],
   "source": [
    "#calculate recall\n",
    "from sklearn.metrics import recall_score\n",
    "\n",
    "recall_score(y_test, y_pred_new_threshold)\n",
    "\n",
    "\n",
    "#Confusion Matrix\n",
    "from sklearn.metrics import confusion_matrix\n",
    "\n",
    "confusion_matrix = confusion_matrix(y_test, y_pred_new_threshold)\n",
    "print(\"Confusion Matrix\")\n",
    "print(confusion_matrix)\n",
    "print()\n",
    "\n",
    "#Classification Report\n",
    "from sklearn.metrics import classification_report\n",
    "print('Classification Report')\n",
    "print(classification_report(y_test, y_pred_new_threshold))"
   ]
  },
  {
   "cell_type": "markdown",
   "metadata": {},
   "source": [
    "### Precision-Recall Curve"
   ]
  },
  {
   "cell_type": "code",
   "execution_count": 35,
   "metadata": {},
   "outputs": [
    {
     "name": "stdout",
     "output_type": "stream",
     "text": [
      "Average Precision Recall Score: 0.7574197863760014\n"
     ]
    }
   ],
   "source": [
    "from sklearn.metrics import average_precision_score\n",
    "average_precision = average_precision_score(y_test, logreg_5.decision_function(X_test))\n",
    "print(\"Average Precision Recall Score:\", average_precision)\n",
    "\n",
    "from sklearn.metrics import precision_recall_curve, auc\n",
    "precision, recall, thresholds = precision_recall_curve(y_test, logreg_5.predict_proba(X_test)[:,1])\n",
    "auc_score = auc(recall, precision)"
   ]
  },
  {
   "cell_type": "code",
   "execution_count": 36,
   "metadata": {},
   "outputs": [
    {
     "name": "stdout",
     "output_type": "stream",
     "text": [
      "AUC: 0.757\n"
     ]
    },
    {
     "data": {
      "image/png": "[encoded data removed]",
      "text/plain": [
       "<Figure size 720x720 with 1 Axes>"
      ]
     },
     "metadata": {
      "needs_background": "light"
     },
     "output_type": "display_data"
    }
   ],
   "source": [
    "print('AUC: %.3f' % auc_score)\n",
    "negative = len(y_test[y_test == 1])/ len(y_test)\n",
    "plt.figure(figsize=(10,10))\n",
    "plt.plot([0,1], [negative, negative], linestyle='--')\n",
    "plt.plot(recall, precision, marker='.')\n",
    "plt.title('Precision - Recall Curve')\n",
    "plt.grid()\n",
    "plt.show()"
   ]
  },
  {
   "cell_type": "markdown",
   "metadata": {},
   "source": [
    "### Lowering the Threshold"
   ]
  },
  {
   "cell_type": "code",
   "execution_count": 37,
   "metadata": {},
   "outputs": [
    {
     "name": "stdout",
     "output_type": "stream",
     "text": [
      "Best Threshold=0.228969, F-Score=0.702\n"
     ]
    }
   ],
   "source": [
    "from numpy import argmax\n",
    "# convert to f score\n",
    "fscore = (2 * precision * recall) / (precision + recall)\n",
    "# locate the index of the largest f score\n",
    "ix = argmax(fscore)\n",
    "print('Best Threshold=%f, F-Score=%.3f' % (thresholds[ix], fscore[ix]))"
   ]
  },
  {
   "cell_type": "markdown",
   "metadata": {},
   "source": [
    "### ROC CURVE"
   ]
  },
  {
   "cell_type": "code",
   "execution_count": 26,
   "metadata": {},
   "outputs": [
    {
     "data": {
      "image/png": "[encoded data removed]",
      "text/plain": [
       "<Figure size 864x864 with 1 Axes>"
      ]
     },
     "metadata": {
      "needs_background": "light"
     },
     "output_type": "display_data"
    }
   ],
   "source": [
    "from sklearn.metrics import roc_auc_score\n",
    "from sklearn.metrics import roc_curve\n",
    "logit_roc_auc = roc_auc_score(y_test, logreg_5.predict(X_test))\n",
    "fpr, tpr, thresholds = roc_curve(y_test, logreg_5.predict_proba(X_test)[:,1])\n",
    "plt.figure(figsize=(12,12))\n",
    "plt.plot(fpr, tpr, label='Logistic Regression (area = %0.2f)' % logit_roc_auc)\n",
    "plt.plot([0, 1], [0, 1],'r--')\n",
    "plt.xlim([0.0, 1.0])\n",
    "plt.ylim([0.0, 1.05])\n",
    "plt.xlabel('False Positive Rate')\n",
    "plt.ylabel('True Positive Rate')\n",
    "plt.title('Receiver operating characteristic')\n",
    "plt.legend(loc=\"lower right\")\n",
    "plt.savefig('Log_ROC')\n",
    "plt.grid()\n",
    "plt.show()"
   ]
  },
  {
   "cell_type": "markdown",
   "metadata": {},
   "source": [
    "From the methods used, pre-trained word embeddings on 10-K's performed the best. Recall was maximized to above 90%."
   ]
  },
  {
   "cell_type": "code",
   "execution_count": null,
   "metadata": {},
   "outputs": [],
   "source": []
  },
  {
   "cell_type": "code",
   "execution_count": null,
   "metadata": {},
   "outputs": [],
   "source": []
  },
  {
   "cell_type": "code",
   "execution_count": null,
   "metadata": {},
   "outputs": [],
   "source": []
  },
  {
   "cell_type": "code",
   "execution_count": null,
   "metadata": {},
   "outputs": [],
   "source": []
  },
  {
   "cell_type": "code",
   "execution_count": null,
   "metadata": {},
   "outputs": [],
   "source": []
  },
  {
   "cell_type": "code",
   "execution_count": null,
   "metadata": {},
   "outputs": [],
   "source": []
  },
  {
   "cell_type": "code",
   "execution_count": null,
   "metadata": {},
   "outputs": [],
   "source": []
  },
  {
   "cell_type": "code",
   "execution_count": null,
   "metadata": {},
   "outputs": [],
   "source": []
  }
 ],
 "metadata": {
  "kernelspec": {
   "display_name": "Python 3",
   "language": "python",
   "name": "python3"
  },
  "language_info": {
   "codemirror_mode": {
    "name": "ipython",
    "version": 3
   },
   "file_extension": ".py",
   "mimetype": "text/x-python",
   "name": "python",
   "nbconvert_exporter": "python",
   "pygments_lexer": "ipython3",
   "version": "3.7.6"
  }
 },
 "nbformat": 4,
 "nbformat_minor": 4
}
